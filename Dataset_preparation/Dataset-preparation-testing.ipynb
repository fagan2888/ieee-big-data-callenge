{
 "cells": [
  {
   "cell_type": "markdown",
   "metadata": {},
   "source": [
    "## Initial steps"
   ]
  },
  {
   "cell_type": "markdown",
   "metadata": {},
   "source": [
    "Import libraries"
   ]
  },
  {
   "cell_type": "code",
   "execution_count": 1,
   "metadata": {},
   "outputs": [],
   "source": [
    "import pandas as pd\n",
    "import numpy as np\n",
    "import seaborn as sns\n",
    "import matplotlib.pyplot as plt\n",
    "%matplotlib inline"
   ]
  },
  {
   "cell_type": "code",
   "execution_count": 2,
   "metadata": {},
   "outputs": [],
   "source": [
    "testing = pd.read_csv('./cybersecurity_test.csv', delimiter=\"|\", header=[0])"
   ]
  },
  {
   "cell_type": "code",
   "execution_count": 3,
   "metadata": {},
   "outputs": [
    {
     "data": {
      "text/html": [
       "<div>\n",
       "<style scoped>\n",
       "    .dataframe tbody tr th:only-of-type {\n",
       "        vertical-align: middle;\n",
       "    }\n",
       "\n",
       "    .dataframe tbody tr th {\n",
       "        vertical-align: top;\n",
       "    }\n",
       "\n",
       "    .dataframe thead th {\n",
       "        text-align: right;\n",
       "    }\n",
       "</style>\n",
       "<table border=\"1\" class=\"dataframe\">\n",
       "  <thead>\n",
       "    <tr style=\"text-align: right;\">\n",
       "      <th></th>\n",
       "      <th>alert_ids</th>\n",
       "      <th>client_code</th>\n",
       "      <th>categoryname</th>\n",
       "      <th>ip</th>\n",
       "      <th>ipcategory_name</th>\n",
       "      <th>ipcategory_scope</th>\n",
       "      <th>parent_category</th>\n",
       "      <th>grandparent_category</th>\n",
       "      <th>overallseverity</th>\n",
       "      <th>timestamp_dist</th>\n",
       "      <th>...</th>\n",
       "      <th>thrcnt_week</th>\n",
       "      <th>thrcnt_day</th>\n",
       "      <th>p6</th>\n",
       "      <th>p9</th>\n",
       "      <th>p5m</th>\n",
       "      <th>p5w</th>\n",
       "      <th>p5d</th>\n",
       "      <th>p8m</th>\n",
       "      <th>p8w</th>\n",
       "      <th>p8d</th>\n",
       "    </tr>\n",
       "  </thead>\n",
       "  <tbody>\n",
       "    <tr>\n",
       "      <th>0</th>\n",
       "      <td>Slg</td>\n",
       "      <td>RLJ</td>\n",
       "      <td>Exploit</td>\n",
       "      <td>MW.YB.50.64</td>\n",
       "      <td>INTERNET</td>\n",
       "      <td>Internet</td>\n",
       "      <td>7</td>\n",
       "      <td>A</td>\n",
       "      <td>3</td>\n",
       "      <td>0</td>\n",
       "      <td>...</td>\n",
       "      <td>298</td>\n",
       "      <td>42</td>\n",
       "      <td>1</td>\n",
       "      <td>0</td>\n",
       "      <td>1</td>\n",
       "      <td>1</td>\n",
       "      <td>1</td>\n",
       "      <td>1</td>\n",
       "      <td>1</td>\n",
       "      <td>1</td>\n",
       "    </tr>\n",
       "    <tr>\n",
       "      <th>1</th>\n",
       "      <td>WKM</td>\n",
       "      <td>UZT</td>\n",
       "      <td>Exploit</td>\n",
       "      <td>IJ.NW.77.74</td>\n",
       "      <td>INTERNET</td>\n",
       "      <td>Internet</td>\n",
       "      <td>7</td>\n",
       "      <td>A</td>\n",
       "      <td>5</td>\n",
       "      <td>0</td>\n",
       "      <td>...</td>\n",
       "      <td>11</td>\n",
       "      <td>3</td>\n",
       "      <td>1</td>\n",
       "      <td>0</td>\n",
       "      <td>1</td>\n",
       "      <td>1</td>\n",
       "      <td>1</td>\n",
       "      <td>1</td>\n",
       "      <td>1</td>\n",
       "      <td>1</td>\n",
       "    </tr>\n",
       "    <tr>\n",
       "      <th>2</th>\n",
       "      <td>dkm</td>\n",
       "      <td>ZZW</td>\n",
       "      <td>Attack</td>\n",
       "      <td>YT.LB.36.21</td>\n",
       "      <td>INTERNET</td>\n",
       "      <td>Internet</td>\n",
       "      <td>7</td>\n",
       "      <td>A</td>\n",
       "      <td>3</td>\n",
       "      <td>0</td>\n",
       "      <td>...</td>\n",
       "      <td>3601</td>\n",
       "      <td>602</td>\n",
       "      <td>1</td>\n",
       "      <td>0</td>\n",
       "      <td>3</td>\n",
       "      <td>1</td>\n",
       "      <td>1</td>\n",
       "      <td>1</td>\n",
       "      <td>1</td>\n",
       "      <td>1</td>\n",
       "    </tr>\n",
       "    <tr>\n",
       "      <th>3</th>\n",
       "      <td>RIX</td>\n",
       "      <td>QXG</td>\n",
       "      <td>Attack</td>\n",
       "      <td>172.BW.LB.105</td>\n",
       "      <td>PRIV-172</td>\n",
       "      <td>Private network</td>\n",
       "      <td>1</td>\n",
       "      <td>A</td>\n",
       "      <td>3</td>\n",
       "      <td>0</td>\n",
       "      <td>...</td>\n",
       "      <td>12</td>\n",
       "      <td>4</td>\n",
       "      <td>1</td>\n",
       "      <td>0</td>\n",
       "      <td>3</td>\n",
       "      <td>1</td>\n",
       "      <td>1</td>\n",
       "      <td>2</td>\n",
       "      <td>1</td>\n",
       "      <td>1</td>\n",
       "    </tr>\n",
       "    <tr>\n",
       "      <th>4</th>\n",
       "      <td>qFU</td>\n",
       "      <td>PDU</td>\n",
       "      <td>Exploit</td>\n",
       "      <td>YT.LB.32.110</td>\n",
       "      <td>INTERNET</td>\n",
       "      <td>Internet</td>\n",
       "      <td>7</td>\n",
       "      <td>A</td>\n",
       "      <td>3</td>\n",
       "      <td>258273</td>\n",
       "      <td>...</td>\n",
       "      <td>131</td>\n",
       "      <td>20</td>\n",
       "      <td>1</td>\n",
       "      <td>0</td>\n",
       "      <td>1</td>\n",
       "      <td>1</td>\n",
       "      <td>1</td>\n",
       "      <td>1</td>\n",
       "      <td>1</td>\n",
       "      <td>1</td>\n",
       "    </tr>\n",
       "  </tbody>\n",
       "</table>\n",
       "<p>5 rows × 62 columns</p>\n",
       "</div>"
      ],
      "text/plain": [
       "  alert_ids client_code categoryname             ip ipcategory_name  \\\n",
       "0       Slg         RLJ      Exploit    MW.YB.50.64        INTERNET   \n",
       "1       WKM         UZT      Exploit    IJ.NW.77.74        INTERNET   \n",
       "2       dkm         ZZW       Attack    YT.LB.36.21        INTERNET   \n",
       "3       RIX         QXG       Attack  172.BW.LB.105        PRIV-172   \n",
       "4       qFU         PDU      Exploit   YT.LB.32.110        INTERNET   \n",
       "\n",
       "  ipcategory_scope  parent_category grandparent_category  overallseverity  \\\n",
       "0         Internet                7                    A                3   \n",
       "1         Internet                7                    A                5   \n",
       "2         Internet                7                    A                3   \n",
       "3  Private network                1                    A                3   \n",
       "4         Internet                7                    A                3   \n",
       "\n",
       "   timestamp_dist  ...  thrcnt_week  thrcnt_day  p6 p9  p5m  p5w  p5d  p8m  \\\n",
       "0               0  ...          298          42   1  0    1    1    1    1   \n",
       "1               0  ...           11           3   1  0    1    1    1    1   \n",
       "2               0  ...         3601         602   1  0    3    1    1    1   \n",
       "3               0  ...           12           4   1  0    3    1    1    2   \n",
       "4          258273  ...          131          20   1  0    1    1    1    1   \n",
       "\n",
       "   p8w  p8d  \n",
       "0    1    1  \n",
       "1    1    1  \n",
       "2    1    1  \n",
       "3    1    1  \n",
       "4    1    1  \n",
       "\n",
       "[5 rows x 62 columns]"
      ]
     },
     "execution_count": 3,
     "metadata": {},
     "output_type": "execute_result"
    }
   ],
   "source": [
    "testing.head()"
   ]
  },
  {
   "cell_type": "markdown",
   "metadata": {},
   "source": [
    "### Fill NA numerical"
   ]
  },
  {
   "cell_type": "code",
   "execution_count": 4,
   "metadata": {},
   "outputs": [],
   "source": [
    "def fillmissing(dataset):\n",
    "    for column in dataset.columns:\n",
    "        if dataset[column].isna().sum() > 0:\n",
    "            dataset[column].fillna(0, inplace=True)\n",
    "    return dataset"
   ]
  },
  {
   "cell_type": "code",
   "execution_count": 5,
   "metadata": {},
   "outputs": [
    {
     "name": "stdout",
     "output_type": "stream",
     "text": [
      "Index(['alert_ids', 'client_code', 'categoryname', 'ip', 'ipcategory_name',\n",
      "       'ipcategory_scope', 'parent_category', 'grandparent_category',\n",
      "       'overallseverity', 'timestamp_dist', 'start_hour', 'start_minute',\n",
      "       'start_second', 'weekday', 'correlatedcount', 'n1', 'n2', 'n3', 'n4',\n",
      "       'n5', 'n6', 'n7', 'n8', 'n9', 'n10', 'score', 'srcip_cd', 'dstip_cd',\n",
      "       'srcport_cd', 'dstport_cd', 'alerttype_cd', 'direction_cd',\n",
      "       'eventname_cd', 'severity_cd', 'reportingdevice_cd', 'devicetype_cd',\n",
      "       'devicevendor_cd', 'domain_cd', 'protocol_cd', 'username_cd',\n",
      "       'srcipcategory_cd', 'dstipcategory_cd', 'isiptrusted', 'untrustscore',\n",
      "       'flowscore', 'trustscore', 'enforcementscore', 'dstipcategory_dominate',\n",
      "       'srcipcategory_dominate', 'dstportcategory_dominate',\n",
      "       'srcportcategory_dominate', 'thrcnt_month', 'thrcnt_week', 'thrcnt_day',\n",
      "       'p6', 'p9', 'p5m', 'p5w', 'p5d', 'p8m', 'p8w', 'p8d'],\n",
      "      dtype='object')\n"
     ]
    }
   ],
   "source": [
    "testing =fillmissing(testing)\n",
    "print(testing.columns)"
   ]
  },
  {
   "cell_type": "markdown",
   "metadata": {},
   "source": [
    "### Column types"
   ]
  },
  {
   "cell_type": "code",
   "execution_count": 6,
   "metadata": {},
   "outputs": [],
   "source": [
    "categorical_string_columns = ['categoryname', 'ipcategory_name', 'ipcategory_scope', 'parent_category', 'grandparent_category', 'weekday']\n",
    "categorical_numeric_columns = ['overallseverity', 'start_hour', 'start_minute', 'start_second', 'n1', 'n2', 'n3', 'n4', 'n5', 'n6', 'n7', 'n8', 'n9', 'n10', 'score', \n",
    "                               'alerttype_cd', 'direction_cd', 'eventname_cd', 'severity_cd', 'reportingdevice_cd', 'devicetype_cd', 'devicevendor_cd',\n",
    "                               'srcipcategory_cd', 'dstipcategory_cd', 'isiptrusted', 'untrustscore', 'flowscore', 'trustscore','enforcementscore', 'dstipcategory_dominate', \n",
    "                               'srcipcategory_dominate', 'dstportcategory_dominate', 'srcportcategory_dominate', 'p6', 'p5m', 'p5w', 'p5d', 'p8m', 'p8w', 'p8d']"
   ]
  },
  {
   "cell_type": "markdown",
   "metadata": {},
   "source": [
    "## Variables preprocessing"
   ]
  },
  {
   "cell_type": "markdown",
   "metadata": {},
   "source": [
    "#### ip"
   ]
  },
  {
   "cell_type": "code",
   "execution_count": 7,
   "metadata": {},
   "outputs": [
    {
     "data": {
      "text/plain": [
       "25"
      ]
     },
     "execution_count": 7,
     "metadata": {},
     "output_type": "execute_result"
    }
   ],
   "source": [
    "# split IPs to prefix\n",
    "testing['ip_prefix'] = testing['ip'].apply(lambda x: \".\".join(x.split('.')[:1]))\n",
    "vc = testing['ip_prefix'].value_counts()\n",
    "testing['ip_prefix_aggreg'] = testing['ip_prefix'].apply(lambda x: x if vc[x]>100 else \"other\")\n",
    "testing['ip_prefix_aggreg'].value_counts().size"
   ]
  },
  {
   "cell_type": "markdown",
   "metadata": {},
   "source": [
    "### No string columns dataset"
   ]
  },
  {
   "cell_type": "code",
   "execution_count": 8,
   "metadata": {},
   "outputs": [],
   "source": [
    "string_columns =  ['alert_ids', 'client_code', 'categoryname', 'ip', 'ipcategory_name', 'ipcategory_scope','parent_category','grandparent_category', \n",
    "                   'weekday', 'dstipcategory_dominate', 'srcipcategory_dominate', 'ip_prefix', 'ip_prefix_aggreg']\n",
    "no_strings_testing = testing.drop(string_columns, axis=1)\n",
    "file_name = \"no_strings_test.pkl\"\n",
    "no_strings_testing.to_pickle(file_name)"
   ]
  },
  {
   "cell_type": "markdown",
   "metadata": {},
   "source": [
    "## Encoding"
   ]
  },
  {
   "cell_type": "code",
   "execution_count": 9,
   "metadata": {},
   "outputs": [],
   "source": [
    "def encode(original, concate, list_of_columns):\n",
    "    for column in list_of_columns:\n",
    "        dummies = pd.get_dummies(columns=[column], data=original[column], prefix=column)\n",
    "        concate = pd.concat([concate, dummies], axis=1)\n",
    "    return concate"
   ]
  },
  {
   "cell_type": "markdown",
   "metadata": {},
   "source": [
    "### Encoding string categorical columns"
   ]
  },
  {
   "cell_type": "code",
   "execution_count": 10,
   "metadata": {},
   "outputs": [
    {
     "name": "stdout",
     "output_type": "stream",
     "text": [
      "After categorical encoding:  120\n",
      "After numerical encoding:  417\n"
     ]
    }
   ],
   "source": [
    "columns_to_encode = ['categoryname', 'weekday','ipcategory_name', 'ipcategory_scope','grandparent_category', \n",
    "                     'dstipcategory_dominate', 'srcipcategory_dominate', 'ip_prefix_aggreg']\n",
    "encoded_category = encode(testing, no_strings_testing, columns_to_encode)\n",
    "for column in columns_to_encode:\n",
    "    if column in encoded_category.columns:\n",
    "        encoded = encoded.drop(column, axis=1)\n",
    "print(\"After categorical encoding: \", len(encoded_category.columns))\n",
    "\n",
    "# numerical columns\n",
    "columns_to_encode = categorical_numeric_columns\n",
    "encoded = encode(testing, encoded_category, columns_to_encode)\n",
    "for column in columns_to_encode:\n",
    "    if column in encoded.columns:\n",
    "        encoded = encoded.drop(column, axis=1)\n",
    "print(\"After numerical encoding: \" ,len(encoded.columns))"
   ]
  },
  {
   "cell_type": "code",
   "execution_count": 11,
   "metadata": {},
   "outputs": [
    {
     "name": "stdout",
     "output_type": "stream",
     "text": [
      "Missing columns:  ['devicetype_cd_5', 'ip_prefix_aggreg_SF', 'ip_prefix_aggreg_WZ', 'ip_prefix_aggreg_RZ', 'n5', 'categoryname_Suspicious Reputation', 'notified', 'n10', 'ip_prefix_aggreg_TT', 'ip_prefix_aggreg_KB', 'p5m_5', 'reportingdevice_cd_23', 'categoryname_Suspicious Network Activity', 'srcipcategory_dominate_PRIV-CGN', 'reportingdevice_cd_151', 'n9', 'alerttype_cd_10', 'ip_prefix_aggreg_EU', 'n3', 'categoryname_To Be Determined', 'ip_prefix_aggreg_XI', 'reportingdevice_cd_17', 'p6_10', 'ip_prefix_aggreg_NZ', 'categoryname_Suspicious Account Activity', 'ip_prefix_aggreg_LW', 'ip_prefix_aggreg_EB', 'ip_prefix_aggreg_YC', 'reportingdevice_cd_153', 'dstipcategory_cd_4', 'n8', 'n7', 'ip_prefix_aggreg_RQ', 'devicevendor_cd_7', 'ip_prefix_aggreg_ER', 'ip_prefix_aggreg_JQ', 'reportingdevice_cd_154', 'reportingdevice_cd_46', 'devicevendor_cd_4', 'n2', 'ip_prefix_aggreg_100', 'devicetype_cd_4', 'ip_prefix_aggreg_IF', 'ip_prefix_aggreg_MQ', 'ip_prefix_aggreg_RD', 'ip_prefix_aggreg_WA', 'ipcategory_name_PRIV-CGN', 'reportingdevice_cd_146', 'categoryname_Malicious Activity', 'n6', 'reportingdevice_cd_36', 'reportingdevice_cd_19', 'n1', 'n4', 'dstipcategory_dominate_CURR_NET', 'reportingdevice_cd_22']\n",
      "Superabundant columns:  []\n"
     ]
    }
   ],
   "source": [
    "encoded_train = pd.read_pickle(\"../Datasets/encoded_train.pkl\")\n",
    "missing_columns = list(set(encoded_train.columns) - set(encoded.columns))\n",
    "print(\"Missing columns: \", missing_columns)\n",
    "superabundant_columns = list(set(encoded.columns) - set(encoded_train.columns))\n",
    "print(\"Superabundant columns: \", superabundant_columns)\n",
    "\n"
   ]
  },
  {
   "cell_type": "code",
   "execution_count": 12,
   "metadata": {},
   "outputs": [],
   "source": [
    "for column in missing_columns:\n",
    "    if column != 'notified':\n",
    "        encoded[column] = 0"
   ]
  },
  {
   "cell_type": "code",
   "execution_count": 13,
   "metadata": {},
   "outputs": [
    {
     "data": {
      "text/plain": [
       "472"
      ]
     },
     "execution_count": 13,
     "metadata": {},
     "output_type": "execute_result"
    }
   ],
   "source": [
    "len(encoded.columns)"
   ]
  },
  {
   "cell_type": "code",
   "execution_count": 14,
   "metadata": {},
   "outputs": [],
   "source": [
    "file_name = \"encoded_test.pkl\"\n",
    "encoded.to_pickle(file_name)"
   ]
  },
  {
   "cell_type": "markdown",
   "metadata": {},
   "source": [
    "## Standartization"
   ]
  },
  {
   "cell_type": "code",
   "execution_count": 15,
   "metadata": {},
   "outputs": [],
   "source": [
    "from sklearn.preprocessing import StandardScaler\n",
    "\n",
    "def standartize(dataset, target_variable):\n",
    "    \n",
    "    scaler = StandardScaler()\n",
    "    scaler.fit(dataset)\n",
    "    scaled_features = scaler.transform(dataset)\n",
    "    df_scaled_features = pd.DataFrame(scaled_features,columns=dataset.columns)\n",
    "    return(df_scaled_features)\n",
    "    "
   ]
  },
  {
   "cell_type": "markdown",
   "metadata": {},
   "source": [
    "#### No_strings dataset"
   ]
  },
  {
   "cell_type": "code",
   "execution_count": 16,
   "metadata": {},
   "outputs": [
    {
     "name": "stderr",
     "output_type": "stream",
     "text": [
      "/home/ubuntu/anaconda3/lib/python3.7/site-packages/sklearn/preprocessing/data.py:645: DataConversionWarning: Data with input dtype int64, float64 were all converted to float64 by StandardScaler.\n",
      "  return self.partial_fit(X, y)\n",
      "/home/ubuntu/anaconda3/lib/python3.7/site-packages/ipykernel_launcher.py:7: DataConversionWarning: Data with input dtype int64, float64 were all converted to float64 by StandardScaler.\n",
      "  import sys\n"
     ]
    }
   ],
   "source": [
    "no_strings_testing_scaled = standartize(no_strings_testing,target_variable='notified')\n",
    "file_name = \"no_strings_normalized_test.pkl\"\n",
    "no_strings_testing_scaled.to_pickle(file_name)"
   ]
  },
  {
   "cell_type": "markdown",
   "metadata": {},
   "source": [
    "#### Encoded dataset"
   ]
  },
  {
   "cell_type": "code",
   "execution_count": 17,
   "metadata": {},
   "outputs": [
    {
     "name": "stderr",
     "output_type": "stream",
     "text": [
      "/home/ubuntu/anaconda3/lib/python3.7/site-packages/sklearn/preprocessing/data.py:645: DataConversionWarning: Data with input dtype uint8, int64 were all converted to float64 by StandardScaler.\n",
      "  return self.partial_fit(X, y)\n",
      "/home/ubuntu/anaconda3/lib/python3.7/site-packages/ipykernel_launcher.py:7: DataConversionWarning: Data with input dtype uint8, int64 were all converted to float64 by StandardScaler.\n",
      "  import sys\n"
     ]
    }
   ],
   "source": [
    "encoded_scaled = standartize(encoded,target_variable='notified')\n",
    "file_name = \"encoded_normalized_test.pkl\"\n",
    "encoded_scaled.to_pickle(file_name)"
   ]
  }
 ],
 "metadata": {
  "kernelspec": {
   "display_name": "Python 3",
   "language": "python",
   "name": "python3"
  },
  "language_info": {
   "codemirror_mode": {
    "name": "ipython",
    "version": 3
   },
   "file_extension": ".py",
   "mimetype": "text/x-python",
   "name": "python",
   "nbconvert_exporter": "python",
   "pygments_lexer": "ipython3",
   "version": "3.7.3"
  }
 },
 "nbformat": 4,
 "nbformat_minor": 2
}
