{
 "cells": [
  {
   "cell_type": "markdown",
   "metadata": {},
   "source": [
    "## Initial steps"
   ]
  },
  {
   "cell_type": "markdown",
   "metadata": {},
   "source": [
    "Import libraries"
   ]
  },
  {
   "cell_type": "code",
   "execution_count": 1,
   "metadata": {},
   "outputs": [],
   "source": [
    "import pandas as pd\n",
    "import numpy as np\n",
    "import seaborn as sns\n",
    "import matplotlib.pyplot as plt\n",
    "%matplotlib inline"
   ]
  },
  {
   "cell_type": "code",
   "execution_count": 45,
   "metadata": {},
   "outputs": [],
   "source": [
    "training = pd.read_csv('./cybersecurity_training.csv', delimiter=\"|\", header=[0])"
   ]
  },
  {
   "cell_type": "code",
   "execution_count": 46,
   "metadata": {},
   "outputs": [
    {
     "data": {
      "text/html": [
       "<div>\n",
       "<style scoped>\n",
       "    .dataframe tbody tr th:only-of-type {\n",
       "        vertical-align: middle;\n",
       "    }\n",
       "\n",
       "    .dataframe tbody tr th {\n",
       "        vertical-align: top;\n",
       "    }\n",
       "\n",
       "    .dataframe thead th {\n",
       "        text-align: right;\n",
       "    }\n",
       "</style>\n",
       "<table border=\"1\" class=\"dataframe\">\n",
       "  <thead>\n",
       "    <tr style=\"text-align: right;\">\n",
       "      <th></th>\n",
       "      <th>alert_ids</th>\n",
       "      <th>client_code</th>\n",
       "      <th>notified</th>\n",
       "      <th>categoryname</th>\n",
       "      <th>ip</th>\n",
       "      <th>ipcategory_name</th>\n",
       "      <th>ipcategory_scope</th>\n",
       "      <th>parent_category</th>\n",
       "      <th>grandparent_category</th>\n",
       "      <th>overallseverity</th>\n",
       "      <th>...</th>\n",
       "      <th>thrcnt_week</th>\n",
       "      <th>thrcnt_day</th>\n",
       "      <th>p6</th>\n",
       "      <th>p9</th>\n",
       "      <th>p5m</th>\n",
       "      <th>p5w</th>\n",
       "      <th>p5d</th>\n",
       "      <th>p8m</th>\n",
       "      <th>p8w</th>\n",
       "      <th>p8d</th>\n",
       "    </tr>\n",
       "  </thead>\n",
       "  <tbody>\n",
       "    <tr>\n",
       "      <th>0</th>\n",
       "      <td>Nhq</td>\n",
       "      <td>DPM</td>\n",
       "      <td>0</td>\n",
       "      <td>Attack</td>\n",
       "      <td>YT.LB.32.21</td>\n",
       "      <td>INTERNET</td>\n",
       "      <td>Internet</td>\n",
       "      <td>7</td>\n",
       "      <td>A</td>\n",
       "      <td>3</td>\n",
       "      <td>...</td>\n",
       "      <td>4160</td>\n",
       "      <td>675</td>\n",
       "      <td>1</td>\n",
       "      <td>0</td>\n",
       "      <td>2</td>\n",
       "      <td>1</td>\n",
       "      <td>1</td>\n",
       "      <td>1</td>\n",
       "      <td>1</td>\n",
       "      <td>1</td>\n",
       "    </tr>\n",
       "    <tr>\n",
       "      <th>1</th>\n",
       "      <td>XZt</td>\n",
       "      <td>FIN</td>\n",
       "      <td>0</td>\n",
       "      <td>Exploit</td>\n",
       "      <td>192.SL.UK.94</td>\n",
       "      <td>PRIV-192</td>\n",
       "      <td>Private network</td>\n",
       "      <td>1</td>\n",
       "      <td>A</td>\n",
       "      <td>5</td>\n",
       "      <td>...</td>\n",
       "      <td>9</td>\n",
       "      <td>2</td>\n",
       "      <td>4</td>\n",
       "      <td>12</td>\n",
       "      <td>3</td>\n",
       "      <td>2</td>\n",
       "      <td>2</td>\n",
       "      <td>2</td>\n",
       "      <td>1</td>\n",
       "      <td>1</td>\n",
       "    </tr>\n",
       "    <tr>\n",
       "      <th>2</th>\n",
       "      <td>bBz</td>\n",
       "      <td>CHP</td>\n",
       "      <td>0</td>\n",
       "      <td>Attack</td>\n",
       "      <td>YT.LB.38.21</td>\n",
       "      <td>INTERNET</td>\n",
       "      <td>Internet</td>\n",
       "      <td>7</td>\n",
       "      <td>A</td>\n",
       "      <td>4</td>\n",
       "      <td>...</td>\n",
       "      <td>3788</td>\n",
       "      <td>628</td>\n",
       "      <td>1</td>\n",
       "      <td>0</td>\n",
       "      <td>2</td>\n",
       "      <td>2</td>\n",
       "      <td>1</td>\n",
       "      <td>2</td>\n",
       "      <td>2</td>\n",
       "      <td>1</td>\n",
       "    </tr>\n",
       "    <tr>\n",
       "      <th>3</th>\n",
       "      <td>ZNr</td>\n",
       "      <td>HPS</td>\n",
       "      <td>0</td>\n",
       "      <td>Attack</td>\n",
       "      <td>JX.NY.13.20</td>\n",
       "      <td>INTERNET</td>\n",
       "      <td>Internet</td>\n",
       "      <td>7</td>\n",
       "      <td>A</td>\n",
       "      <td>4</td>\n",
       "      <td>...</td>\n",
       "      <td>565</td>\n",
       "      <td>96</td>\n",
       "      <td>0</td>\n",
       "      <td>0</td>\n",
       "      <td>2</td>\n",
       "      <td>2</td>\n",
       "      <td>2</td>\n",
       "      <td>2</td>\n",
       "      <td>2</td>\n",
       "      <td>2</td>\n",
       "    </tr>\n",
       "    <tr>\n",
       "      <th>4</th>\n",
       "      <td>poV</td>\n",
       "      <td>OSC</td>\n",
       "      <td>0</td>\n",
       "      <td>Attack</td>\n",
       "      <td>YT.LB.32.21</td>\n",
       "      <td>INTERNET</td>\n",
       "      <td>Internet</td>\n",
       "      <td>7</td>\n",
       "      <td>A</td>\n",
       "      <td>4</td>\n",
       "      <td>...</td>\n",
       "      <td>2790</td>\n",
       "      <td>632</td>\n",
       "      <td>1</td>\n",
       "      <td>0</td>\n",
       "      <td>1</td>\n",
       "      <td>1</td>\n",
       "      <td>1</td>\n",
       "      <td>1</td>\n",
       "      <td>1</td>\n",
       "      <td>1</td>\n",
       "    </tr>\n",
       "  </tbody>\n",
       "</table>\n",
       "<p>5 rows × 63 columns</p>\n",
       "</div>"
      ],
      "text/plain": [
       "  alert_ids client_code  notified categoryname            ip ipcategory_name  \\\n",
       "0       Nhq         DPM         0       Attack   YT.LB.32.21        INTERNET   \n",
       "1       XZt         FIN         0      Exploit  192.SL.UK.94        PRIV-192   \n",
       "2       bBz         CHP         0       Attack   YT.LB.38.21        INTERNET   \n",
       "3       ZNr         HPS         0       Attack   JX.NY.13.20        INTERNET   \n",
       "4       poV         OSC         0       Attack   YT.LB.32.21        INTERNET   \n",
       "\n",
       "  ipcategory_scope  parent_category grandparent_category  overallseverity  \\\n",
       "0         Internet                7                    A                3   \n",
       "1  Private network                1                    A                5   \n",
       "2         Internet                7                    A                4   \n",
       "3         Internet                7                    A                4   \n",
       "4         Internet                7                    A                4   \n",
       "\n",
       "   ...  thrcnt_week  thrcnt_day  p6  p9 p5m  p5w  p5d  p8m  p8w  p8d  \n",
       "0  ...         4160         675   1   0   2    1    1    1    1    1  \n",
       "1  ...            9           2   4  12   3    2    2    2    1    1  \n",
       "2  ...         3788         628   1   0   2    2    1    2    2    1  \n",
       "3  ...          565          96   0   0   2    2    2    2    2    2  \n",
       "4  ...         2790         632   1   0   1    1    1    1    1    1  \n",
       "\n",
       "[5 rows x 63 columns]"
      ]
     },
     "execution_count": 46,
     "metadata": {},
     "output_type": "execute_result"
    }
   ],
   "source": [
    "training.head()"
   ]
  },
  {
   "cell_type": "code",
   "execution_count": 47,
   "metadata": {},
   "outputs": [
    {
     "name": "stdout",
     "output_type": "stream",
     "text": [
      "<class 'pandas.core.frame.DataFrame'>\n",
      "RangeIndex: 39427 entries, 0 to 39426\n",
      "Data columns (total 63 columns):\n",
      "alert_ids                   39427 non-null object\n",
      "client_code                 39427 non-null object\n",
      "notified                    39427 non-null int64\n",
      "categoryname                39427 non-null object\n",
      "ip                          39427 non-null object\n",
      "ipcategory_name             39427 non-null object\n",
      "ipcategory_scope            39427 non-null object\n",
      "parent_category             39427 non-null int64\n",
      "grandparent_category        39427 non-null object\n",
      "overallseverity             39427 non-null int64\n",
      "timestamp_dist              39427 non-null int64\n",
      "start_hour                  39427 non-null int64\n",
      "start_minute                39427 non-null int64\n",
      "start_second                39427 non-null int64\n",
      "weekday                     39427 non-null object\n",
      "correlatedcount             39427 non-null int64\n",
      "n1                          7132 non-null float64\n",
      "n2                          7132 non-null float64\n",
      "n3                          7132 non-null float64\n",
      "n4                          7132 non-null float64\n",
      "n5                          7132 non-null float64\n",
      "n6                          7132 non-null float64\n",
      "n7                          7132 non-null float64\n",
      "n8                          7132 non-null float64\n",
      "n9                          7132 non-null float64\n",
      "n10                         7132 non-null float64\n",
      "score                       7132 non-null float64\n",
      "srcip_cd                    39427 non-null int64\n",
      "dstip_cd                    39427 non-null int64\n",
      "srcport_cd                  39427 non-null int64\n",
      "dstport_cd                  39427 non-null int64\n",
      "alerttype_cd                39427 non-null int64\n",
      "direction_cd                39427 non-null int64\n",
      "eventname_cd                39427 non-null int64\n",
      "severity_cd                 39427 non-null int64\n",
      "reportingdevice_cd          39427 non-null int64\n",
      "devicetype_cd               39427 non-null int64\n",
      "devicevendor_cd             39427 non-null int64\n",
      "domain_cd                   39427 non-null int64\n",
      "protocol_cd                 39427 non-null int64\n",
      "username_cd                 39427 non-null int64\n",
      "srcipcategory_cd            39427 non-null int64\n",
      "dstipcategory_cd            39427 non-null int64\n",
      "isiptrusted                 39427 non-null int64\n",
      "untrustscore                39427 non-null int64\n",
      "flowscore                   39427 non-null int64\n",
      "trustscore                  39427 non-null int64\n",
      "enforcementscore            39427 non-null int64\n",
      "dstipcategory_dominate      39427 non-null object\n",
      "srcipcategory_dominate      39427 non-null object\n",
      "dstportcategory_dominate    39427 non-null int64\n",
      "srcportcategory_dominate    39427 non-null int64\n",
      "thrcnt_month                39427 non-null int64\n",
      "thrcnt_week                 39427 non-null int64\n",
      "thrcnt_day                  39427 non-null int64\n",
      "p6                          39427 non-null int64\n",
      "p9                          39427 non-null int64\n",
      "p5m                         39427 non-null int64\n",
      "p5w                         39427 non-null int64\n",
      "p5d                         39427 non-null int64\n",
      "p8m                         39427 non-null int64\n",
      "p8w                         39427 non-null int64\n",
      "p8d                         39427 non-null int64\n",
      "dtypes: float64(11), int64(42), object(10)\n",
      "memory usage: 19.0+ MB\n"
     ]
    }
   ],
   "source": [
    "training.info()"
   ]
  },
  {
   "cell_type": "markdown",
   "metadata": {},
   "source": [
    "### Fill NA numerical\n",
    "Find missing values"
   ]
  },
  {
   "cell_type": "code",
   "execution_count": 48,
   "metadata": {},
   "outputs": [
    {
     "name": "stdout",
     "output_type": "stream",
     "text": [
      "n1 32295\n",
      "n2 32295\n",
      "n3 32295\n",
      "n4 32295\n",
      "n5 32295\n",
      "n6 32295\n",
      "n7 32295\n",
      "n8 32295\n",
      "n9 32295\n",
      "n10 32295\n",
      "score 32295\n"
     ]
    }
   ],
   "source": [
    "for column in training.columns:\n",
    "        if training[column].isna().sum() > 0:\n",
    "            print(column, training[column].isna().sum())"
   ]
  },
  {
   "cell_type": "code",
   "execution_count": 49,
   "metadata": {},
   "outputs": [],
   "source": [
    "def fillmissing(dataset):\n",
    "    for column in dataset.columns:\n",
    "        if dataset[column].isna().sum() > 0:\n",
    "            dataset[column].fillna(0, inplace=True)\n",
    "    return dataset"
   ]
  },
  {
   "cell_type": "code",
   "execution_count": 50,
   "metadata": {},
   "outputs": [
    {
     "data": {
      "text/plain": [
       "Index(['alert_ids', 'client_code', 'notified', 'categoryname', 'ip',\n",
       "       'ipcategory_name', 'ipcategory_scope', 'parent_category',\n",
       "       'grandparent_category', 'overallseverity', 'timestamp_dist',\n",
       "       'start_hour', 'start_minute', 'start_second', 'weekday',\n",
       "       'correlatedcount', 'n1', 'n2', 'n3', 'n4', 'n5', 'n6', 'n7', 'n8', 'n9',\n",
       "       'n10', 'score', 'srcip_cd', 'dstip_cd', 'srcport_cd', 'dstport_cd',\n",
       "       'alerttype_cd', 'direction_cd', 'eventname_cd', 'severity_cd',\n",
       "       'reportingdevice_cd', 'devicetype_cd', 'devicevendor_cd', 'domain_cd',\n",
       "       'protocol_cd', 'username_cd', 'srcipcategory_cd', 'dstipcategory_cd',\n",
       "       'isiptrusted', 'untrustscore', 'flowscore', 'trustscore',\n",
       "       'enforcementscore', 'dstipcategory_dominate', 'srcipcategory_dominate',\n",
       "       'dstportcategory_dominate', 'srcportcategory_dominate', 'thrcnt_month',\n",
       "       'thrcnt_week', 'thrcnt_day', 'p6', 'p9', 'p5m', 'p5w', 'p5d', 'p8m',\n",
       "       'p8w', 'p8d'],\n",
       "      dtype='object')"
      ]
     },
     "execution_count": 50,
     "metadata": {},
     "output_type": "execute_result"
    }
   ],
   "source": [
    "training = fillmissing(training)\n",
    "training.columns"
   ]
  },
  {
   "cell_type": "markdown",
   "metadata": {},
   "source": [
    "### Column types"
   ]
  },
  {
   "cell_type": "code",
   "execution_count": 51,
   "metadata": {},
   "outputs": [],
   "source": [
    "to_drop_columns = ['client_code', 'alert_ids']\n",
    "categorical_string_columns = ['categoryname', 'ipcategory_name', 'ipcategory_scope', 'parent_category', 'grandparent_category', 'weekday']\n",
    "categorical_numeric_columns = ['overallseverity', 'start_hour', 'start_minute', 'start_second', 'score', 'alerttype_cd', 'direction_cd', 'eventname_cd', 'isiptrusted', 'dstipcategory_dominate', 'srcipcategory_dominate', 'dstportcategory_dominate', 'srcportcategory_dominate', 'p6', 'p5m', 'p5w', 'p5d', 'p8m', 'p8w', 'p8d']\n",
    "binary_columns = [ 'n1', 'n2', 'n3', 'n4', 'n5', 'n6', 'n7', 'n8', 'n9', 'n10']"
   ]
  },
  {
   "cell_type": "markdown",
   "metadata": {},
   "source": [
    "## Variables preprocessing"
   ]
  },
  {
   "cell_type": "markdown",
   "metadata": {},
   "source": [
    "#### ip\n",
    "Get A prefix of IP address and create a catecogy. If there is less than 100 records of the prefix, it is makred as \"other\" category"
   ]
  },
  {
   "cell_type": "code",
   "execution_count": 52,
   "metadata": {},
   "outputs": [
    {
     "data": {
      "text/plain": [
       "39"
      ]
     },
     "execution_count": 52,
     "metadata": {},
     "output_type": "execute_result"
    }
   ],
   "source": [
    "# split IPs to prefix\n",
    "training['ip_prefix'] = training['ip'].apply(lambda x: \".\".join(x.split('.')[:1]))\n",
    "vc = training['ip_prefix'].value_counts()\n",
    "training['ip_prefix_aggreg'] = training['ip_prefix'].apply(lambda x: x if vc[x]>100 else \"other\")\n",
    "training['ip_prefix_aggreg'].value_counts().size"
   ]
  },
  {
   "cell_type": "markdown",
   "metadata": {},
   "source": [
    "### No string columns dataset"
   ]
  },
  {
   "cell_type": "code",
   "execution_count": 53,
   "metadata": {},
   "outputs": [],
   "source": [
    "string_columns =  ['alert_ids', 'client_code', 'categoryname', 'ip', 'ipcategory_name', 'ipcategory_scope','parent_category','grandparent_category', \n",
    "                   'weekday', 'dstipcategory_dominate', 'srcipcategory_dominate', 'ip_prefix', 'ip_prefix_aggreg']\n",
    "no_strings_training = training.drop(string_columns, axis=1)\n",
    "file_name = \"no_strings_train.pkl\"\n",
    "no_strings_training.to_pickle(file_name)"
   ]
  },
  {
   "cell_type": "markdown",
   "metadata": {},
   "source": [
    "## Encoding"
   ]
  },
  {
   "cell_type": "code",
   "execution_count": 56,
   "metadata": {},
   "outputs": [],
   "source": [
    "def encode(original, concate, list_of_columns):\n",
    "    for column in list_of_columns:\n",
    "        dummies = pd.get_dummies(columns=[column], data=original[column], prefix=column)\n",
    "        concate = pd.concat([concate, dummies], axis=1)\n",
    "    return concate"
   ]
  },
  {
   "cell_type": "code",
   "execution_count": 57,
   "metadata": {},
   "outputs": [
    {
     "data": {
      "text/plain": [
       "Index(['alert_ids', 'client_code', 'notified', 'categoryname', 'ip',\n",
       "       'ipcategory_name', 'ipcategory_scope', 'parent_category',\n",
       "       'grandparent_category', 'overallseverity', 'timestamp_dist',\n",
       "       'start_hour', 'start_minute', 'start_second', 'weekday',\n",
       "       'correlatedcount', 'n1', 'n2', 'n3', 'n4', 'n5', 'n6', 'n7', 'n8', 'n9',\n",
       "       'n10', 'score', 'srcip_cd', 'dstip_cd', 'srcport_cd', 'dstport_cd',\n",
       "       'alerttype_cd', 'direction_cd', 'eventname_cd', 'severity_cd',\n",
       "       'reportingdevice_cd', 'devicetype_cd', 'devicevendor_cd', 'domain_cd',\n",
       "       'protocol_cd', 'username_cd', 'srcipcategory_cd', 'dstipcategory_cd',\n",
       "       'isiptrusted', 'untrustscore', 'flowscore', 'trustscore',\n",
       "       'enforcementscore', 'dstipcategory_dominate', 'srcipcategory_dominate',\n",
       "       'dstportcategory_dominate', 'srcportcategory_dominate', 'thrcnt_month',\n",
       "       'thrcnt_week', 'thrcnt_day', 'p6', 'p9', 'p5m', 'p5w', 'p5d', 'p8m',\n",
       "       'p8w', 'p8d', 'ip_prefix', 'ip_prefix_aggreg'],\n",
       "      dtype='object')"
      ]
     },
     "execution_count": 57,
     "metadata": {},
     "output_type": "execute_result"
    }
   ],
   "source": [
    "training.columns\n"
   ]
  },
  {
   "cell_type": "markdown",
   "metadata": {},
   "source": [
    "### Encoding string categorical columns"
   ]
  },
  {
   "cell_type": "code",
   "execution_count": 58,
   "metadata": {},
   "outputs": [
    {
     "name": "stdout",
     "output_type": "stream",
     "text": [
      "After categorical encoding:  140\n",
      "After numerical encoding:  366\n"
     ]
    }
   ],
   "source": [
    "columns_to_encode = ['categoryname', 'weekday','ipcategory_name', 'ipcategory_scope','grandparent_category', \n",
    "                     'dstipcategory_dominate', 'srcipcategory_dominate', 'ip_prefix_aggreg']\n",
    "encoded_category = encode(training, no_strings_training, columns_to_encode)\n",
    "for column in columns_to_encode:\n",
    "    if column in encoded_category.columns:\n",
    "        encoded = encoded.drop(column, axis=1)\n",
    "print(\"After categorical encoding: \", len(encoded_category.columns))\n",
    "\n",
    "# numerical columns\n",
    "columns_to_encode = categorical_numeric_columns\n",
    "encoded = encode(training, encoded_category, columns_to_encode)\n",
    "for column in columns_to_encode:\n",
    "    if column in encoded.columns:\n",
    "        encoded = encoded.drop(column, axis=1)\n",
    "print(\"After numerical encoding: \" ,len(encoded.columns))"
   ]
  },
  {
   "cell_type": "code",
   "execution_count": 11,
   "metadata": {},
   "outputs": [
    {
     "data": {
      "text/plain": [
       "473"
      ]
     },
     "execution_count": 11,
     "metadata": {},
     "output_type": "execute_result"
    }
   ],
   "source": [
    "missing_columns =  ['n4_1.0', 'n3_0.0', 'n9_0.0', 'alerttype_cd_11', 'dstipcategory_dominate_LINK-LOCAL', 'n5_1.0', 'untrustscore_8', 'n2_0.0', 'n5_0.0', 'ip_prefix_aggreg_SC', 'n10_0.0', 'n3_1.0', 'n4_0.0', 'reportingdevice_cd_144', 'devicevendor_cd_8', 'alerttype_cd_12', 'p6_11', 'reportingdevice_cd_37', 'reportingdevice_cd_31', 'n6_0.0', 'eventname_cd_14', 'n2_1.0', 'ipcategory_name_BENCH', 'ip_prefix_aggreg_ON', 'untrustscore_9', 'srcipcategory_dominate_BENCH', 'n8_0.0', 'p6_12', 'ip_prefix_aggreg_DK', 'ip_prefix_aggreg_BW', 'n7_0.0', 'n1_1.0', 'devicetype_cd_6', 'direction_cd_6', 'n6_1.0', 'n9_1.0', 'ip_prefix_aggreg_MW', 'reportingdevice_cd_28', 'n1_0.0', 'devicetype_cd_7']\n",
    "for column in missing_columns:\n",
    "    if column != 'notified':\n",
    "        encoded[column] = 0\n",
    "len(encoded.columns)"
   ]
  },
  {
   "cell_type": "code",
   "execution_count": 12,
   "metadata": {},
   "outputs": [],
   "source": [
    "file_name = \"encoded_train.pkl\"\n",
    "encoded.to_pickle(file_name)"
   ]
  },
  {
   "cell_type": "markdown",
   "metadata": {},
   "source": [
    "## Standartization"
   ]
  },
  {
   "cell_type": "code",
   "execution_count": 13,
   "metadata": {},
   "outputs": [],
   "source": [
    "from sklearn.preprocessing import StandardScaler\n",
    "\n",
    "def standartize(dataset, target_variable):\n",
    "    \n",
    "    scaler = StandardScaler()\n",
    "    scaler.fit(dataset.drop(target_variable,axis=1))\n",
    "    scaled_features = scaler.transform(dataset.drop(target_variable,axis=1))\n",
    "    df_scaled_features = pd.DataFrame(scaled_features,columns=dataset.drop(target_variable,axis=1).columns)\n",
    "    df_scaled = pd.concat([dataset[target_variable], df_scaled_features], axis=1)\n",
    "    return df_scaled"
   ]
  },
  {
   "cell_type": "markdown",
   "metadata": {},
   "source": [
    "#### No_strings dataset"
   ]
  },
  {
   "cell_type": "code",
   "execution_count": 14,
   "metadata": {},
   "outputs": [
    {
     "name": "stderr",
     "output_type": "stream",
     "text": [
      "/home/ubuntu/anaconda3/lib/python3.7/site-packages/sklearn/preprocessing/data.py:645: DataConversionWarning: Data with input dtype int64, float64 were all converted to float64 by StandardScaler.\n",
      "  return self.partial_fit(X, y)\n",
      "/home/ubuntu/anaconda3/lib/python3.7/site-packages/ipykernel_launcher.py:7: DataConversionWarning: Data with input dtype int64, float64 were all converted to float64 by StandardScaler.\n",
      "  import sys\n"
     ]
    }
   ],
   "source": [
    "no_strings_training_scaled = standartize(no_strings_training,target_variable='notified')\n",
    "file_name = \"no_strings_normalized_train.pkl\"\n",
    "no_strings_training_scaled.to_pickle(file_name)"
   ]
  },
  {
   "cell_type": "markdown",
   "metadata": {},
   "source": [
    "#### Encoded dataset"
   ]
  },
  {
   "cell_type": "code",
   "execution_count": 15,
   "metadata": {},
   "outputs": [
    {
     "name": "stderr",
     "output_type": "stream",
     "text": [
      "/home/ubuntu/anaconda3/lib/python3.7/site-packages/sklearn/preprocessing/data.py:645: DataConversionWarning: Data with input dtype uint8, int64, float64 were all converted to float64 by StandardScaler.\n",
      "  return self.partial_fit(X, y)\n",
      "/home/ubuntu/anaconda3/lib/python3.7/site-packages/ipykernel_launcher.py:7: DataConversionWarning: Data with input dtype uint8, int64, float64 were all converted to float64 by StandardScaler.\n",
      "  import sys\n"
     ]
    }
   ],
   "source": [
    "encoded_scaled = standartize(encoded,target_variable='notified')\n",
    "file_name = \"encoded_normalized_train.pkl\"\n",
    "encoded_scaled.to_pickle(file_name)"
   ]
  },
  {
   "cell_type": "code",
   "execution_count": null,
   "metadata": {},
   "outputs": [],
   "source": []
  }
 ],
 "metadata": {
  "kernelspec": {
   "display_name": "Python 3",
   "language": "python",
   "name": "python3"
  },
  "language_info": {
   "codemirror_mode": {
    "name": "ipython",
    "version": 3
   },
   "file_extension": ".py",
   "mimetype": "text/x-python",
   "name": "python",
   "nbconvert_exporter": "python",
   "pygments_lexer": "ipython3",
   "version": "3.7.3"
  }
 },
 "nbformat": 4,
 "nbformat_minor": 2
}
