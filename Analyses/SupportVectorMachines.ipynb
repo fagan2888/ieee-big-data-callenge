{
 "cells": [
  {
   "cell_type": "markdown",
   "metadata": {},
   "source": [
    "# IEEE Big Data Challenge"
   ]
  },
  {
   "cell_type": "markdown",
   "metadata": {},
   "source": [
    "## Initial steps"
   ]
  },
  {
   "cell_type": "markdown",
   "metadata": {},
   "source": [
    "Import libraries"
   ]
  },
  {
   "cell_type": "code",
   "execution_count": 1,
   "metadata": {},
   "outputs": [],
   "source": [
    "import pandas as pd\n",
    "import numpy as np\n",
    "import seaborn as sns\n",
    "import matplotlib.pyplot as plt\n",
    "%matplotlib inline"
   ]
  },
  {
   "cell_type": "code",
   "execution_count": 12,
   "metadata": {},
   "outputs": [],
   "source": [
    "training = pd.read_pickle(\"no_strings_normalized.pkl\")"
   ]
  },
  {
   "cell_type": "code",
   "execution_count": 13,
   "metadata": {},
   "outputs": [
    {
     "data": {
      "text/html": [
       "<div>\n",
       "<style scoped>\n",
       "    .dataframe tbody tr th:only-of-type {\n",
       "        vertical-align: middle;\n",
       "    }\n",
       "\n",
       "    .dataframe tbody tr th {\n",
       "        vertical-align: top;\n",
       "    }\n",
       "\n",
       "    .dataframe thead th {\n",
       "        text-align: right;\n",
       "    }\n",
       "</style>\n",
       "<table border=\"1\" class=\"dataframe\">\n",
       "  <thead>\n",
       "    <tr style=\"text-align: right;\">\n",
       "      <th></th>\n",
       "      <th>notified</th>\n",
       "      <th>overallseverity</th>\n",
       "      <th>timestamp_dist</th>\n",
       "      <th>start_hour</th>\n",
       "      <th>start_minute</th>\n",
       "      <th>start_second</th>\n",
       "      <th>correlatedcount</th>\n",
       "      <th>n1</th>\n",
       "      <th>n2</th>\n",
       "      <th>n3</th>\n",
       "      <th>...</th>\n",
       "      <th>thrcnt_week</th>\n",
       "      <th>thrcnt_day</th>\n",
       "      <th>p6</th>\n",
       "      <th>p9</th>\n",
       "      <th>p5m</th>\n",
       "      <th>p5w</th>\n",
       "      <th>p5d</th>\n",
       "      <th>p8m</th>\n",
       "      <th>p8w</th>\n",
       "      <th>p8d</th>\n",
       "    </tr>\n",
       "  </thead>\n",
       "  <tbody>\n",
       "    <tr>\n",
       "      <th>0</th>\n",
       "      <td>0</td>\n",
       "      <td>-1.445723</td>\n",
       "      <td>0.097556</td>\n",
       "      <td>-0.784678</td>\n",
       "      <td>-0.868300</td>\n",
       "      <td>0.273376</td>\n",
       "      <td>-0.019448</td>\n",
       "      <td>-0.088441</td>\n",
       "      <td>-0.022528</td>\n",
       "      <td>-0.255439</td>\n",
       "      <td>...</td>\n",
       "      <td>1.455736</td>\n",
       "      <td>1.452570</td>\n",
       "      <td>0.482490</td>\n",
       "      <td>-0.022882</td>\n",
       "      <td>0.380214</td>\n",
       "      <td>-0.669235</td>\n",
       "      <td>-0.440486</td>\n",
       "      <td>-0.672570</td>\n",
       "      <td>-0.562449</td>\n",
       "      <td>-0.387374</td>\n",
       "    </tr>\n",
       "    <tr>\n",
       "      <th>1</th>\n",
       "      <td>0</td>\n",
       "      <td>0.803528</td>\n",
       "      <td>5.200622</td>\n",
       "      <td>-1.785669</td>\n",
       "      <td>-1.682632</td>\n",
       "      <td>-1.576298</td>\n",
       "      <td>0.985084</td>\n",
       "      <td>-0.088441</td>\n",
       "      <td>-0.022528</td>\n",
       "      <td>-0.255439</td>\n",
       "      <td>...</td>\n",
       "      <td>-0.802376</td>\n",
       "      <td>-0.780264</td>\n",
       "      <td>4.470008</td>\n",
       "      <td>0.072726</td>\n",
       "      <td>1.597586</td>\n",
       "      <td>0.782455</td>\n",
       "      <td>1.656476</td>\n",
       "      <td>0.700962</td>\n",
       "      <td>-0.562449</td>\n",
       "      <td>-0.387374</td>\n",
       "    </tr>\n",
       "    <tr>\n",
       "      <th>2</th>\n",
       "      <td>0</td>\n",
       "      <td>-0.321097</td>\n",
       "      <td>-0.002327</td>\n",
       "      <td>0.073315</td>\n",
       "      <td>0.876697</td>\n",
       "      <td>-1.402891</td>\n",
       "      <td>0.033725</td>\n",
       "      <td>-0.088441</td>\n",
       "      <td>-0.022528</td>\n",
       "      <td>-0.255439</td>\n",
       "      <td>...</td>\n",
       "      <td>1.253371</td>\n",
       "      <td>1.296637</td>\n",
       "      <td>0.482490</td>\n",
       "      <td>-0.022882</td>\n",
       "      <td>0.380214</td>\n",
       "      <td>0.782455</td>\n",
       "      <td>-0.440486</td>\n",
       "      <td>0.700962</td>\n",
       "      <td>1.055622</td>\n",
       "      <td>-0.387374</td>\n",
       "    </tr>\n",
       "    <tr>\n",
       "      <th>3</th>\n",
       "      <td>0</td>\n",
       "      <td>-0.321097</td>\n",
       "      <td>-0.201095</td>\n",
       "      <td>0.931307</td>\n",
       "      <td>0.236865</td>\n",
       "      <td>0.620190</td>\n",
       "      <td>-0.032501</td>\n",
       "      <td>-0.088441</td>\n",
       "      <td>-0.022528</td>\n",
       "      <td>-0.255439</td>\n",
       "      <td>...</td>\n",
       "      <td>-0.499916</td>\n",
       "      <td>-0.468397</td>\n",
       "      <td>-0.846683</td>\n",
       "      <td>-0.022882</td>\n",
       "      <td>0.380214</td>\n",
       "      <td>0.782455</td>\n",
       "      <td>1.656476</td>\n",
       "      <td>0.700962</td>\n",
       "      <td>1.055622</td>\n",
       "      <td>1.960148</td>\n",
       "    </tr>\n",
       "    <tr>\n",
       "      <th>4</th>\n",
       "      <td>0</td>\n",
       "      <td>-0.321097</td>\n",
       "      <td>-0.190178</td>\n",
       "      <td>0.073315</td>\n",
       "      <td>0.411365</td>\n",
       "      <td>-1.056077</td>\n",
       "      <td>-0.032501</td>\n",
       "      <td>-0.088441</td>\n",
       "      <td>-0.022528</td>\n",
       "      <td>-0.255439</td>\n",
       "      <td>...</td>\n",
       "      <td>0.710466</td>\n",
       "      <td>1.309908</td>\n",
       "      <td>0.482490</td>\n",
       "      <td>-0.022882</td>\n",
       "      <td>-0.837157</td>\n",
       "      <td>-0.669235</td>\n",
       "      <td>-0.440486</td>\n",
       "      <td>-0.672570</td>\n",
       "      <td>-0.562449</td>\n",
       "      <td>-0.387374</td>\n",
       "    </tr>\n",
       "  </tbody>\n",
       "</table>\n",
       "<p>5 rows × 52 columns</p>\n",
       "</div>"
      ],
      "text/plain": [
       "   notified  overallseverity  timestamp_dist  start_hour  start_minute  \\\n",
       "0         0        -1.445723        0.097556   -0.784678     -0.868300   \n",
       "1         0         0.803528        5.200622   -1.785669     -1.682632   \n",
       "2         0        -0.321097       -0.002327    0.073315      0.876697   \n",
       "3         0        -0.321097       -0.201095    0.931307      0.236865   \n",
       "4         0        -0.321097       -0.190178    0.073315      0.411365   \n",
       "\n",
       "   start_second  correlatedcount        n1        n2        n3  ...  \\\n",
       "0      0.273376        -0.019448 -0.088441 -0.022528 -0.255439  ...   \n",
       "1     -1.576298         0.985084 -0.088441 -0.022528 -0.255439  ...   \n",
       "2     -1.402891         0.033725 -0.088441 -0.022528 -0.255439  ...   \n",
       "3      0.620190        -0.032501 -0.088441 -0.022528 -0.255439  ...   \n",
       "4     -1.056077        -0.032501 -0.088441 -0.022528 -0.255439  ...   \n",
       "\n",
       "   thrcnt_week  thrcnt_day        p6        p9       p5m       p5w       p5d  \\\n",
       "0     1.455736    1.452570  0.482490 -0.022882  0.380214 -0.669235 -0.440486   \n",
       "1    -0.802376   -0.780264  4.470008  0.072726  1.597586  0.782455  1.656476   \n",
       "2     1.253371    1.296637  0.482490 -0.022882  0.380214  0.782455 -0.440486   \n",
       "3    -0.499916   -0.468397 -0.846683 -0.022882  0.380214  0.782455  1.656476   \n",
       "4     0.710466    1.309908  0.482490 -0.022882 -0.837157 -0.669235 -0.440486   \n",
       "\n",
       "        p8m       p8w       p8d  \n",
       "0 -0.672570 -0.562449 -0.387374  \n",
       "1  0.700962 -0.562449 -0.387374  \n",
       "2  0.700962  1.055622 -0.387374  \n",
       "3  0.700962  1.055622  1.960148  \n",
       "4 -0.672570 -0.562449 -0.387374  \n",
       "\n",
       "[5 rows x 52 columns]"
      ]
     },
     "execution_count": 13,
     "metadata": {},
     "output_type": "execute_result"
    }
   ],
   "source": [
    "training.head()"
   ]
  },
  {
   "cell_type": "markdown",
   "metadata": {},
   "source": [
    "## Training dataset preparation"
   ]
  },
  {
   "cell_type": "code",
   "execution_count": 14,
   "metadata": {},
   "outputs": [],
   "source": [
    "from sklearn.model_selection import train_test_split\n",
    "\n",
    "y = training['notified']\n",
    "X = training.drop('notified', axis=1)\n",
    "test_size = 0.3\n",
    "seed = 1011\n",
    "\n",
    "X_train, X_test, y_train, y_test = train_test_split(X, y, test_size=test_size, random_state=seed )"
   ]
  },
  {
   "cell_type": "markdown",
   "metadata": {},
   "source": [
    "## SVM"
   ]
  },
  {
   "cell_type": "code",
   "execution_count": 15,
   "metadata": {},
   "outputs": [],
   "source": [
    "from sklearn.svm import SVC\n",
    "model = SVC(verbose=1, probability=True)"
   ]
  },
  {
   "cell_type": "code",
   "execution_count": 16,
   "metadata": {},
   "outputs": [
    {
     "name": "stderr",
     "output_type": "stream",
     "text": [
      "/home/ubuntu/anaconda3/lib/python3.7/site-packages/sklearn/svm/base.py:196: FutureWarning: The default value of gamma will change from 'auto' to 'scale' in version 0.22 to account better for unscaled features. Set gamma explicitly to 'auto' or 'scale' to avoid this warning.\n",
      "  \"avoid this warning.\", FutureWarning)\n"
     ]
    },
    {
     "name": "stdout",
     "output_type": "stream",
     "text": [
      "[LibSVM]"
     ]
    },
    {
     "data": {
      "text/plain": [
       "SVC(C=1.0, cache_size=200, class_weight=None, coef0=0.0,\n",
       "  decision_function_shape='ovr', degree=3, gamma='auto_deprecated',\n",
       "  kernel='rbf', max_iter=-1, probability=True, random_state=None,\n",
       "  shrinking=True, tol=0.001, verbose=1)"
      ]
     },
     "execution_count": 16,
     "metadata": {},
     "output_type": "execute_result"
    }
   ],
   "source": [
    "model.fit(X_train, y_train)"
   ]
  },
  {
   "cell_type": "code",
   "execution_count": 17,
   "metadata": {},
   "outputs": [],
   "source": [
    "predictions = model.predict_proba(X_test)"
   ]
  },
  {
   "cell_type": "markdown",
   "metadata": {},
   "source": [
    "### Evaluation"
   ]
  },
  {
   "cell_type": "code",
   "execution_count": 18,
   "metadata": {},
   "outputs": [
    {
     "data": {
      "text/plain": [
       "0.69883679657853"
      ]
     },
     "execution_count": 18,
     "metadata": {},
     "output_type": "execute_result"
    }
   ],
   "source": [
    "from sklearn import metrics\n",
    "metrics.roc_auc_score(y_test, predictions[:,1])"
   ]
  },
  {
   "cell_type": "code",
   "execution_count": null,
   "metadata": {},
   "outputs": [],
   "source": []
  }
 ],
 "metadata": {
  "kernelspec": {
   "display_name": "Python 3",
   "language": "python",
   "name": "python3"
  },
  "language_info": {
   "codemirror_mode": {
    "name": "ipython",
    "version": 3
   },
   "file_extension": ".py",
   "mimetype": "text/x-python",
   "name": "python",
   "nbconvert_exporter": "python",
   "pygments_lexer": "ipython3",
   "version": "3.7.3"
  }
 },
 "nbformat": 4,
 "nbformat_minor": 2
}
