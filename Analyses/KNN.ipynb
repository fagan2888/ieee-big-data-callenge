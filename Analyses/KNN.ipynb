{
 "cells": [
  {
   "cell_type": "markdown",
   "metadata": {},
   "source": [
    "# IEEE Big Data Challenge"
   ]
  },
  {
   "cell_type": "markdown",
   "metadata": {},
   "source": [
    "## Initial steps"
   ]
  },
  {
   "cell_type": "markdown",
   "metadata": {},
   "source": [
    "Import libraries"
   ]
  },
  {
   "cell_type": "code",
   "execution_count": 1,
   "metadata": {},
   "outputs": [],
   "source": [
    "import pandas as pd\n",
    "import numpy as np\n",
    "import seaborn as sns\n",
    "import matplotlib.pyplot as plt\n",
    "%matplotlib inline"
   ]
  },
  {
   "cell_type": "code",
   "execution_count": 5,
   "metadata": {},
   "outputs": [],
   "source": [
    "training = pd.read_pickle(\"no_strings_normalized.pkl\")"
   ]
  },
  {
   "cell_type": "code",
   "execution_count": 6,
   "metadata": {},
   "outputs": [
    {
     "data": {
      "text/html": [
       "<div>\n",
       "<style scoped>\n",
       "    .dataframe tbody tr th:only-of-type {\n",
       "        vertical-align: middle;\n",
       "    }\n",
       "\n",
       "    .dataframe tbody tr th {\n",
       "        vertical-align: top;\n",
       "    }\n",
       "\n",
       "    .dataframe thead th {\n",
       "        text-align: right;\n",
       "    }\n",
       "</style>\n",
       "<table border=\"1\" class=\"dataframe\">\n",
       "  <thead>\n",
       "    <tr style=\"text-align: right;\">\n",
       "      <th></th>\n",
       "      <th>notified</th>\n",
       "      <th>overallseverity</th>\n",
       "      <th>timestamp_dist</th>\n",
       "      <th>start_hour</th>\n",
       "      <th>start_minute</th>\n",
       "      <th>start_second</th>\n",
       "      <th>correlatedcount</th>\n",
       "      <th>n1</th>\n",
       "      <th>n2</th>\n",
       "      <th>n3</th>\n",
       "      <th>...</th>\n",
       "      <th>thrcnt_week</th>\n",
       "      <th>thrcnt_day</th>\n",
       "      <th>p6</th>\n",
       "      <th>p9</th>\n",
       "      <th>p5m</th>\n",
       "      <th>p5w</th>\n",
       "      <th>p5d</th>\n",
       "      <th>p8m</th>\n",
       "      <th>p8w</th>\n",
       "      <th>p8d</th>\n",
       "    </tr>\n",
       "  </thead>\n",
       "  <tbody>\n",
       "    <tr>\n",
       "      <th>0</th>\n",
       "      <td>0</td>\n",
       "      <td>-1.445723</td>\n",
       "      <td>0.097556</td>\n",
       "      <td>-0.784678</td>\n",
       "      <td>-0.868300</td>\n",
       "      <td>0.273376</td>\n",
       "      <td>-0.019448</td>\n",
       "      <td>-0.088441</td>\n",
       "      <td>-0.022528</td>\n",
       "      <td>-0.255439</td>\n",
       "      <td>...</td>\n",
       "      <td>1.455736</td>\n",
       "      <td>1.452570</td>\n",
       "      <td>0.482490</td>\n",
       "      <td>-0.022882</td>\n",
       "      <td>0.380214</td>\n",
       "      <td>-0.669235</td>\n",
       "      <td>-0.440486</td>\n",
       "      <td>-0.672570</td>\n",
       "      <td>-0.562449</td>\n",
       "      <td>-0.387374</td>\n",
       "    </tr>\n",
       "    <tr>\n",
       "      <th>1</th>\n",
       "      <td>0</td>\n",
       "      <td>0.803528</td>\n",
       "      <td>5.200622</td>\n",
       "      <td>-1.785669</td>\n",
       "      <td>-1.682632</td>\n",
       "      <td>-1.576298</td>\n",
       "      <td>0.985084</td>\n",
       "      <td>-0.088441</td>\n",
       "      <td>-0.022528</td>\n",
       "      <td>-0.255439</td>\n",
       "      <td>...</td>\n",
       "      <td>-0.802376</td>\n",
       "      <td>-0.780264</td>\n",
       "      <td>4.470008</td>\n",
       "      <td>0.072726</td>\n",
       "      <td>1.597586</td>\n",
       "      <td>0.782455</td>\n",
       "      <td>1.656476</td>\n",
       "      <td>0.700962</td>\n",
       "      <td>-0.562449</td>\n",
       "      <td>-0.387374</td>\n",
       "    </tr>\n",
       "    <tr>\n",
       "      <th>2</th>\n",
       "      <td>0</td>\n",
       "      <td>-0.321097</td>\n",
       "      <td>-0.002327</td>\n",
       "      <td>0.073315</td>\n",
       "      <td>0.876697</td>\n",
       "      <td>-1.402891</td>\n",
       "      <td>0.033725</td>\n",
       "      <td>-0.088441</td>\n",
       "      <td>-0.022528</td>\n",
       "      <td>-0.255439</td>\n",
       "      <td>...</td>\n",
       "      <td>1.253371</td>\n",
       "      <td>1.296637</td>\n",
       "      <td>0.482490</td>\n",
       "      <td>-0.022882</td>\n",
       "      <td>0.380214</td>\n",
       "      <td>0.782455</td>\n",
       "      <td>-0.440486</td>\n",
       "      <td>0.700962</td>\n",
       "      <td>1.055622</td>\n",
       "      <td>-0.387374</td>\n",
       "    </tr>\n",
       "    <tr>\n",
       "      <th>3</th>\n",
       "      <td>0</td>\n",
       "      <td>-0.321097</td>\n",
       "      <td>-0.201095</td>\n",
       "      <td>0.931307</td>\n",
       "      <td>0.236865</td>\n",
       "      <td>0.620190</td>\n",
       "      <td>-0.032501</td>\n",
       "      <td>-0.088441</td>\n",
       "      <td>-0.022528</td>\n",
       "      <td>-0.255439</td>\n",
       "      <td>...</td>\n",
       "      <td>-0.499916</td>\n",
       "      <td>-0.468397</td>\n",
       "      <td>-0.846683</td>\n",
       "      <td>-0.022882</td>\n",
       "      <td>0.380214</td>\n",
       "      <td>0.782455</td>\n",
       "      <td>1.656476</td>\n",
       "      <td>0.700962</td>\n",
       "      <td>1.055622</td>\n",
       "      <td>1.960148</td>\n",
       "    </tr>\n",
       "    <tr>\n",
       "      <th>4</th>\n",
       "      <td>0</td>\n",
       "      <td>-0.321097</td>\n",
       "      <td>-0.190178</td>\n",
       "      <td>0.073315</td>\n",
       "      <td>0.411365</td>\n",
       "      <td>-1.056077</td>\n",
       "      <td>-0.032501</td>\n",
       "      <td>-0.088441</td>\n",
       "      <td>-0.022528</td>\n",
       "      <td>-0.255439</td>\n",
       "      <td>...</td>\n",
       "      <td>0.710466</td>\n",
       "      <td>1.309908</td>\n",
       "      <td>0.482490</td>\n",
       "      <td>-0.022882</td>\n",
       "      <td>-0.837157</td>\n",
       "      <td>-0.669235</td>\n",
       "      <td>-0.440486</td>\n",
       "      <td>-0.672570</td>\n",
       "      <td>-0.562449</td>\n",
       "      <td>-0.387374</td>\n",
       "    </tr>\n",
       "  </tbody>\n",
       "</table>\n",
       "<p>5 rows × 52 columns</p>\n",
       "</div>"
      ],
      "text/plain": [
       "   notified  overallseverity  timestamp_dist  start_hour  start_minute  \\\n",
       "0         0        -1.445723        0.097556   -0.784678     -0.868300   \n",
       "1         0         0.803528        5.200622   -1.785669     -1.682632   \n",
       "2         0        -0.321097       -0.002327    0.073315      0.876697   \n",
       "3         0        -0.321097       -0.201095    0.931307      0.236865   \n",
       "4         0        -0.321097       -0.190178    0.073315      0.411365   \n",
       "\n",
       "   start_second  correlatedcount        n1        n2        n3  ...  \\\n",
       "0      0.273376        -0.019448 -0.088441 -0.022528 -0.255439  ...   \n",
       "1     -1.576298         0.985084 -0.088441 -0.022528 -0.255439  ...   \n",
       "2     -1.402891         0.033725 -0.088441 -0.022528 -0.255439  ...   \n",
       "3      0.620190        -0.032501 -0.088441 -0.022528 -0.255439  ...   \n",
       "4     -1.056077        -0.032501 -0.088441 -0.022528 -0.255439  ...   \n",
       "\n",
       "   thrcnt_week  thrcnt_day        p6        p9       p5m       p5w       p5d  \\\n",
       "0     1.455736    1.452570  0.482490 -0.022882  0.380214 -0.669235 -0.440486   \n",
       "1    -0.802376   -0.780264  4.470008  0.072726  1.597586  0.782455  1.656476   \n",
       "2     1.253371    1.296637  0.482490 -0.022882  0.380214  0.782455 -0.440486   \n",
       "3    -0.499916   -0.468397 -0.846683 -0.022882  0.380214  0.782455  1.656476   \n",
       "4     0.710466    1.309908  0.482490 -0.022882 -0.837157 -0.669235 -0.440486   \n",
       "\n",
       "        p8m       p8w       p8d  \n",
       "0 -0.672570 -0.562449 -0.387374  \n",
       "1  0.700962 -0.562449 -0.387374  \n",
       "2  0.700962  1.055622 -0.387374  \n",
       "3  0.700962  1.055622  1.960148  \n",
       "4 -0.672570 -0.562449 -0.387374  \n",
       "\n",
       "[5 rows x 52 columns]"
      ]
     },
     "execution_count": 6,
     "metadata": {},
     "output_type": "execute_result"
    }
   ],
   "source": [
    "training.head()"
   ]
  },
  {
   "cell_type": "markdown",
   "metadata": {},
   "source": [
    "## Training dataset preparation"
   ]
  },
  {
   "cell_type": "code",
   "execution_count": 7,
   "metadata": {},
   "outputs": [],
   "source": [
    "from sklearn.model_selection import train_test_split\n",
    "\n",
    "y = training['notified']\n",
    "X = training.drop('notified', axis=1)\n",
    "test_size = 0.3\n",
    "seed = 1011\n",
    "\n",
    "X_train, X_test, y_train, y_test = train_test_split(X, y, test_size=test_size, random_state=seed )"
   ]
  },
  {
   "cell_type": "markdown",
   "metadata": {},
   "source": [
    "## KNN"
   ]
  },
  {
   "cell_type": "code",
   "execution_count": 19,
   "metadata": {},
   "outputs": [
    {
     "data": {
      "text/plain": [
       "KNeighborsClassifier(algorithm='auto', leaf_size=30, metric='minkowski',\n",
       "           metric_params=None, n_jobs=None, n_neighbors=15, p=2,\n",
       "           weights='uniform')"
      ]
     },
     "execution_count": 19,
     "metadata": {},
     "output_type": "execute_result"
    }
   ],
   "source": [
    "from sklearn.neighbors import KNeighborsClassifier\n",
    "knn = KNeighborsClassifier(n_neighbors=15)\n",
    "knn.fit(X_train,y_train)"
   ]
  },
  {
   "cell_type": "code",
   "execution_count": 20,
   "metadata": {},
   "outputs": [],
   "source": [
    "predictions = knn.predict_proba(X_test)"
   ]
  },
  {
   "cell_type": "markdown",
   "metadata": {},
   "source": [
    "### Evaluation"
   ]
  },
  {
   "cell_type": "code",
   "execution_count": 21,
   "metadata": {},
   "outputs": [
    {
     "data": {
      "text/plain": [
       "0.7678172997462045"
      ]
     },
     "execution_count": 21,
     "metadata": {},
     "output_type": "execute_result"
    }
   ],
   "source": [
    "from sklearn import metrics\n",
    "metrics.roc_auc_score(y_test, predictions[:,1])"
   ]
  },
  {
   "cell_type": "code",
   "execution_count": null,
   "metadata": {},
   "outputs": [],
   "source": []
  },
  {
   "cell_type": "code",
   "execution_count": 17,
   "metadata": {},
   "outputs": [
    {
     "name": "stdout",
     "output_type": "stream",
     "text": [
      "Computing index:  1\n",
      "0.08817313382365373\n",
      "Computing index:  2\n",
      "0.06213542987572914\n",
      "Computing index:  3\n",
      "0.070082001859836\n",
      "Computing index:  4\n",
      "0.06103643587792713\n",
      "Computing index:  5\n",
      "0.0630653478738693\n",
      "Computing index:  6\n",
      "0.05959928988080142\n",
      "Computing index:  7\n",
      "0.060275593879448815\n",
      "Computing index:  8\n",
      "0.05968382788063235\n",
      "Computing index:  9\n",
      "0.06052920787894158\n",
      "Computing index:  10\n",
      "0.05968382788063235\n",
      "Computing index:  11\n",
      "0.060782821878434354\n",
      "Computing index:  12\n",
      "0.05900752388198495\n",
      "Computing index:  13\n",
      "0.05976836588046327\n",
      "Computing index:  14\n",
      "0.0591765998816468\n",
      "Computing index:  15\n",
      "0.059430213881139574\n",
      "Computing index:  16\n",
      "0.058838447882323106\n",
      "Computing index:  17\n",
      "0.05926113788147772\n",
      "Computing index:  18\n",
      "0.058838447882323106\n",
      "Computing index:  19\n",
      "0.0591765998816468\n",
      "Computing index:  20\n",
      "0.058753909882492183\n",
      "Computing index:  21\n",
      "0.05909206188181588\n",
      "Computing index:  22\n",
      "0.05892298588215403\n",
      "Computing index:  23\n",
      "0.0591765998816468\n",
      "Computing index:  24\n",
      "0.058753909882492183\n",
      "Computing index:  25\n",
      "0.058753909882492183\n",
      "Computing index:  26\n",
      "0.05892298588215403\n",
      "Computing index:  27\n",
      "0.058838447882323106\n",
      "Computing index:  28\n",
      "0.05892298588215403\n",
      "Computing index:  29\n",
      "0.058753909882492183\n",
      "Computing index:  30\n",
      "0.05892298588215403\n",
      "Computing index:  31\n",
      "0.05892298588215403\n",
      "Computing index:  32\n",
      "0.05892298588215403\n",
      "Computing index:  33\n",
      "0.058838447882323106\n",
      "Computing index:  34\n",
      "0.05892298588215403\n",
      "Computing index:  35\n",
      "0.058838447882323106\n",
      "Computing index:  36\n",
      "0.058753909882492183\n",
      "Computing index:  37\n",
      "0.058753909882492183\n",
      "Computing index:  38\n",
      "0.058753909882492183\n",
      "Computing index:  39\n",
      "0.058838447882323106\n"
     ]
    }
   ],
   "source": [
    "error_rate = []\n",
    "\n",
    "# Will take some time\n",
    "for i in range(1,40):\n",
    "    print(\"Computing index: \", i)\n",
    "    knn = KNeighborsClassifier(n_neighbors=i)\n",
    "    knn.fit(X_train,y_train)\n",
    "    pred_i = knn.predict(X_test)\n",
    "    error_rate.append(np.mean(pred_i != y_test))\n",
    "    print(np.mean(pred_i != y_test))"
   ]
  },
  {
   "cell_type": "code",
   "execution_count": 18,
   "metadata": {},
   "outputs": [
    {
     "data": {
      "text/plain": [
       "Text(0, 0.5, 'Error Rate')"
      ]
     },
     "execution_count": 18,
     "metadata": {},
     "output_type": "execute_result"
    },
    {
     "data": {
      "image/png": "[encoded data removed]",
      "text/plain": [
       "<Figure size 720x432 with 1 Axes>"
      ]
     },
     "metadata": {
      "needs_background": "light"
     },
     "output_type": "display_data"
    }
   ],
   "source": [
    "plt.figure(figsize=(10,6))\n",
    "plt.plot(range(1,40),error_rate,color='blue', linestyle='dashed', marker='o',\n",
    "         markerfacecolor='red', markersize=10)\n",
    "plt.title('Error Rate vs. K Value')\n",
    "plt.xlabel('K')\n",
    "plt.ylabel('Error Rate')"
   ]
  },
  {
   "cell_type": "code",
   "execution_count": null,
   "metadata": {},
   "outputs": [],
   "source": []
  }
 ],
 "metadata": {
  "kernelspec": {
   "display_name": "Python 3",
   "language": "python",
   "name": "python3"
  },
  "language_info": {
   "codemirror_mode": {
    "name": "ipython",
    "version": 3
   },
   "file_extension": ".py",
   "mimetype": "text/x-python",
   "name": "python",
   "nbconvert_exporter": "python",
   "pygments_lexer": "ipython3",
   "version": "3.7.3"
  }
 },
 "nbformat": 4,
 "nbformat_minor": 2
}
