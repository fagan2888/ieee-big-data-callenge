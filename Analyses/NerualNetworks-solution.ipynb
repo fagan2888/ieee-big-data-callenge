{
 "cells": [
  {
   "cell_type": "markdown",
   "metadata": {},
   "source": [
    "Import libraries"
   ]
  },
  {
   "cell_type": "code",
   "execution_count": 1,
   "metadata": {},
   "outputs": [],
   "source": [
    "import pandas as pd\n",
    "import numpy as np\n",
    "import seaborn as sns\n",
    "import matplotlib.pyplot as plt\n",
    "%matplotlib inline"
   ]
  },
  {
   "cell_type": "code",
   "execution_count": 4,
   "metadata": {},
   "outputs": [],
   "source": [
    "testing = pd.read_pickle(\"../Datasets/category_normalized_test.pkl\")\n",
    "training = pd.read_pickle(\"../Datasets/category_normalized_train.pkl\")"
   ]
  },
  {
   "cell_type": "code",
   "execution_count": 5,
   "metadata": {},
   "outputs": [
    {
     "data": {
      "text/html": [
       "<div>\n",
       "<style scoped>\n",
       "    .dataframe tbody tr th:only-of-type {\n",
       "        vertical-align: middle;\n",
       "    }\n",
       "\n",
       "    .dataframe tbody tr th {\n",
       "        vertical-align: top;\n",
       "    }\n",
       "\n",
       "    .dataframe thead th {\n",
       "        text-align: right;\n",
       "    }\n",
       "</style>\n",
       "<table border=\"1\" class=\"dataframe\">\n",
       "  <thead>\n",
       "    <tr style=\"text-align: right;\">\n",
       "      <th></th>\n",
       "      <th>overallseverity</th>\n",
       "      <th>timestamp_dist</th>\n",
       "      <th>start_hour</th>\n",
       "      <th>start_minute</th>\n",
       "      <th>start_second</th>\n",
       "      <th>correlatedcount</th>\n",
       "      <th>n1</th>\n",
       "      <th>n2</th>\n",
       "      <th>n3</th>\n",
       "      <th>n4</th>\n",
       "      <th>...</th>\n",
       "      <th>Sat</th>\n",
       "      <th>Sun</th>\n",
       "      <th>Thu</th>\n",
       "      <th>Tue</th>\n",
       "      <th>Wed</th>\n",
       "      <th>Suspicious Reputation</th>\n",
       "      <th>Malicious Activity</th>\n",
       "      <th>Suspicious Network Activity</th>\n",
       "      <th>To Be Determined</th>\n",
       "      <th>Suspicious Account Activity</th>\n",
       "    </tr>\n",
       "  </thead>\n",
       "  <tbody>\n",
       "    <tr>\n",
       "      <th>0</th>\n",
       "      <td>-0.449867</td>\n",
       "      <td>-0.359259</td>\n",
       "      <td>-0.203217</td>\n",
       "      <td>0.848909</td>\n",
       "      <td>-0.179976</td>\n",
       "      <td>-0.038564</td>\n",
       "      <td>-0.194358</td>\n",
       "      <td>-0.079624</td>\n",
       "      <td>-0.580891</td>\n",
       "      <td>-0.404980</td>\n",
       "      <td>...</td>\n",
       "      <td>0</td>\n",
       "      <td>0</td>\n",
       "      <td>0</td>\n",
       "      <td>0</td>\n",
       "      <td>1</td>\n",
       "      <td>0</td>\n",
       "      <td>0</td>\n",
       "      <td>0</td>\n",
       "      <td>0</td>\n",
       "      <td>0</td>\n",
       "    </tr>\n",
       "    <tr>\n",
       "      <th>1</th>\n",
       "      <td>1.544444</td>\n",
       "      <td>-0.359259</td>\n",
       "      <td>1.316161</td>\n",
       "      <td>0.564229</td>\n",
       "      <td>0.048801</td>\n",
       "      <td>-0.038564</td>\n",
       "      <td>-0.194358</td>\n",
       "      <td>-0.079624</td>\n",
       "      <td>-0.580891</td>\n",
       "      <td>-0.404980</td>\n",
       "      <td>...</td>\n",
       "      <td>1</td>\n",
       "      <td>0</td>\n",
       "      <td>0</td>\n",
       "      <td>0</td>\n",
       "      <td>0</td>\n",
       "      <td>0</td>\n",
       "      <td>0</td>\n",
       "      <td>0</td>\n",
       "      <td>0</td>\n",
       "      <td>0</td>\n",
       "    </tr>\n",
       "    <tr>\n",
       "      <th>2</th>\n",
       "      <td>-0.449867</td>\n",
       "      <td>-0.359259</td>\n",
       "      <td>-0.755718</td>\n",
       "      <td>1.589076</td>\n",
       "      <td>-1.381055</td>\n",
       "      <td>-0.038564</td>\n",
       "      <td>-0.194358</td>\n",
       "      <td>-0.079624</td>\n",
       "      <td>-0.580891</td>\n",
       "      <td>-0.404980</td>\n",
       "      <td>...</td>\n",
       "      <td>1</td>\n",
       "      <td>0</td>\n",
       "      <td>0</td>\n",
       "      <td>0</td>\n",
       "      <td>0</td>\n",
       "      <td>0</td>\n",
       "      <td>0</td>\n",
       "      <td>0</td>\n",
       "      <td>0</td>\n",
       "      <td>0</td>\n",
       "    </tr>\n",
       "    <tr>\n",
       "      <th>3</th>\n",
       "      <td>-0.449867</td>\n",
       "      <td>-0.359259</td>\n",
       "      <td>-1.722595</td>\n",
       "      <td>-0.460617</td>\n",
       "      <td>0.220384</td>\n",
       "      <td>-0.038564</td>\n",
       "      <td>-0.194358</td>\n",
       "      <td>-0.079624</td>\n",
       "      <td>1.721492</td>\n",
       "      <td>2.469257</td>\n",
       "      <td>...</td>\n",
       "      <td>0</td>\n",
       "      <td>0</td>\n",
       "      <td>1</td>\n",
       "      <td>0</td>\n",
       "      <td>0</td>\n",
       "      <td>0</td>\n",
       "      <td>0</td>\n",
       "      <td>0</td>\n",
       "      <td>0</td>\n",
       "      <td>0</td>\n",
       "    </tr>\n",
       "    <tr>\n",
       "      <th>4</th>\n",
       "      <td>-0.449867</td>\n",
       "      <td>2.230993</td>\n",
       "      <td>0.763660</td>\n",
       "      <td>0.564229</td>\n",
       "      <td>-0.008393</td>\n",
       "      <td>-0.033797</td>\n",
       "      <td>-0.194358</td>\n",
       "      <td>-0.079624</td>\n",
       "      <td>-0.580891</td>\n",
       "      <td>-0.404980</td>\n",
       "      <td>...</td>\n",
       "      <td>0</td>\n",
       "      <td>0</td>\n",
       "      <td>0</td>\n",
       "      <td>0</td>\n",
       "      <td>0</td>\n",
       "      <td>0</td>\n",
       "      <td>0</td>\n",
       "      <td>0</td>\n",
       "      <td>0</td>\n",
       "      <td>0</td>\n",
       "    </tr>\n",
       "  </tbody>\n",
       "</table>\n",
       "<p>5 rows × 69 columns</p>\n",
       "</div>"
      ],
      "text/plain": [
       "   overallseverity  timestamp_dist  start_hour  start_minute  start_second  \\\n",
       "0        -0.449867       -0.359259   -0.203217      0.848909     -0.179976   \n",
       "1         1.544444       -0.359259    1.316161      0.564229      0.048801   \n",
       "2        -0.449867       -0.359259   -0.755718      1.589076     -1.381055   \n",
       "3        -0.449867       -0.359259   -1.722595     -0.460617      0.220384   \n",
       "4        -0.449867        2.230993    0.763660      0.564229     -0.008393   \n",
       "\n",
       "   correlatedcount        n1        n2        n3        n4  ...  Sat  Sun  \\\n",
       "0        -0.038564 -0.194358 -0.079624 -0.580891 -0.404980  ...    0    0   \n",
       "1        -0.038564 -0.194358 -0.079624 -0.580891 -0.404980  ...    1    0   \n",
       "2        -0.038564 -0.194358 -0.079624 -0.580891 -0.404980  ...    1    0   \n",
       "3        -0.038564 -0.194358 -0.079624  1.721492  2.469257  ...    0    0   \n",
       "4        -0.033797 -0.194358 -0.079624 -0.580891 -0.404980  ...    0    0   \n",
       "\n",
       "   Thu  Tue  Wed  Suspicious Reputation  Malicious Activity  \\\n",
       "0    0    0    1                      0                   0   \n",
       "1    0    0    0                      0                   0   \n",
       "2    0    0    0                      0                   0   \n",
       "3    1    0    0                      0                   0   \n",
       "4    0    0    0                      0                   0   \n",
       "\n",
       "   Suspicious Network Activity  To Be Determined  Suspicious Account Activity  \n",
       "0                            0                 0                            0  \n",
       "1                            0                 0                            0  \n",
       "2                            0                 0                            0  \n",
       "3                            0                 0                            0  \n",
       "4                            0                 0                            0  \n",
       "\n",
       "[5 rows x 69 columns]"
      ]
     },
     "execution_count": 5,
     "metadata": {},
     "output_type": "execute_result"
    }
   ],
   "source": [
    "testing.head()"
   ]
  },
  {
   "cell_type": "markdown",
   "metadata": {},
   "source": [
    "## Neural networks"
   ]
  },
  {
   "cell_type": "markdown",
   "metadata": {},
   "source": [
    "Train on traiing dataset"
   ]
  },
  {
   "cell_type": "code",
   "execution_count": 8,
   "metadata": {},
   "outputs": [],
   "source": [
    "X_train = training.drop('notified', axis=1)\n",
    "y_train = training['notified']"
   ]
  },
  {
   "cell_type": "code",
   "execution_count": 9,
   "metadata": {},
   "outputs": [],
   "source": [
    "X_test = testing"
   ]
  },
  {
   "cell_type": "code",
   "execution_count": 10,
   "metadata": {},
   "outputs": [
    {
     "data": {
      "text/plain": [
       "MLPClassifier(activation='logistic', alpha=1e-05, batch_size='auto',\n",
       "       beta_1=0.9, beta_2=0.999, early_stopping=False, epsilon=1e-08,\n",
       "       hidden_layer_sizes=(50, 25, 2), learning_rate='constant',\n",
       "       learning_rate_init=0.001, max_iter=1000, momentum=0.9,\n",
       "       n_iter_no_change=10, nesterovs_momentum=True, power_t=0.5,\n",
       "       random_state=1, shuffle=True, solver='adam', tol=0.0001,\n",
       "       validation_fraction=0.1, verbose=False, warm_start=False)"
      ]
     },
     "execution_count": 10,
     "metadata": {},
     "output_type": "execute_result"
    }
   ],
   "source": [
    "from sklearn.neural_network import MLPClassifier\n",
    "clf = MLPClassifier(solver='adam', alpha=1e-5, hidden_layer_sizes=(50, 25, 2), random_state=1, activation='logistic', max_iter=1000)\n",
    "clf.fit(X_train, y_train)"
   ]
  },
  {
   "cell_type": "code",
   "execution_count": 11,
   "metadata": {},
   "outputs": [],
   "source": [
    "predictions = clf.predict_proba(X_test)"
   ]
  },
  {
   "cell_type": "code",
   "execution_count": 12,
   "metadata": {},
   "outputs": [],
   "source": [
    "filename = 'solution_neural_networks.txt'\n",
    "np.savetxt(filename, predictions[:,1], fmt=\"%2.6f\", delimiter=\",\")"
   ]
  },
  {
   "cell_type": "code",
   "execution_count": null,
   "metadata": {},
   "outputs": [],
   "source": []
  }
 ],
 "metadata": {
  "kernelspec": {
   "display_name": "Python 3",
   "language": "python",
   "name": "python3"
  },
  "language_info": {
   "codemirror_mode": {
    "name": "ipython",
    "version": 3
   },
   "file_extension": ".py",
   "mimetype": "text/x-python",
   "name": "python",
   "nbconvert_exporter": "python",
   "pygments_lexer": "ipython3",
   "version": "3.7.3"
  }
 },
 "nbformat": 4,
 "nbformat_minor": 2
}
