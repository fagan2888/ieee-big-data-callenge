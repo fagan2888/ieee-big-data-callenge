{
 "cells": [
  {
   "cell_type": "markdown",
   "metadata": {},
   "source": [
    "## Initial steps"
   ]
  },
  {
   "cell_type": "markdown",
   "metadata": {},
   "source": [
    "Import libraries"
   ]
  },
  {
   "cell_type": "code",
   "execution_count": 2,
   "metadata": {},
   "outputs": [],
   "source": [
    "import pandas as pd\n",
    "import numpy as np\n",
    "import seaborn as sns\n",
    "import matplotlib.pyplot as plt\n",
    "%matplotlib inline"
   ]
  },
  {
   "cell_type": "code",
   "execution_count": 9,
   "metadata": {},
   "outputs": [],
   "source": [
    "training = pd.read_pickle(\"../Datasets/encoded_normalized_train.pkl\")"
   ]
  },
  {
   "cell_type": "code",
   "execution_count": 10,
   "metadata": {},
   "outputs": [
    {
     "data": {
      "text/html": [
       "<div>\n",
       "<style scoped>\n",
       "    .dataframe tbody tr th:only-of-type {\n",
       "        vertical-align: middle;\n",
       "    }\n",
       "\n",
       "    .dataframe tbody tr th {\n",
       "        vertical-align: top;\n",
       "    }\n",
       "\n",
       "    .dataframe thead th {\n",
       "        text-align: right;\n",
       "    }\n",
       "</style>\n",
       "<table border=\"1\" class=\"dataframe\">\n",
       "  <thead>\n",
       "    <tr style=\"text-align: right;\">\n",
       "      <th></th>\n",
       "      <th>notified</th>\n",
       "      <th>overallseverity</th>\n",
       "      <th>timestamp_dist</th>\n",
       "      <th>start_hour</th>\n",
       "      <th>start_minute</th>\n",
       "      <th>start_second</th>\n",
       "      <th>correlatedcount</th>\n",
       "      <th>n1</th>\n",
       "      <th>n2</th>\n",
       "      <th>n3</th>\n",
       "      <th>...</th>\n",
       "      <th>PRIV-192</th>\n",
       "      <th>PRIV-CGN</th>\n",
       "      <th>INTERNET</th>\n",
       "      <th>LINK-LOCAL</th>\n",
       "      <th>LOOPBACK</th>\n",
       "      <th>PRIV-10</th>\n",
       "      <th>PRIV-172</th>\n",
       "      <th>PRIV-192</th>\n",
       "      <th>PRIV-CGN</th>\n",
       "      <th>BENCH</th>\n",
       "    </tr>\n",
       "  </thead>\n",
       "  <tbody>\n",
       "    <tr>\n",
       "      <th>0</th>\n",
       "      <td>0</td>\n",
       "      <td>-1.445723</td>\n",
       "      <td>0.097556</td>\n",
       "      <td>-0.784678</td>\n",
       "      <td>-0.868300</td>\n",
       "      <td>0.273376</td>\n",
       "      <td>-0.019448</td>\n",
       "      <td>-0.088441</td>\n",
       "      <td>-0.022528</td>\n",
       "      <td>-0.255439</td>\n",
       "      <td>...</td>\n",
       "      <td>-0.066962</td>\n",
       "      <td>-0.10339</td>\n",
       "      <td>-1.257033</td>\n",
       "      <td>-0.005036</td>\n",
       "      <td>-0.008723</td>\n",
       "      <td>-0.573455</td>\n",
       "      <td>-0.261359</td>\n",
       "      <td>3.67431</td>\n",
       "      <td>-0.084573</td>\n",
       "      <td>0.0</td>\n",
       "    </tr>\n",
       "    <tr>\n",
       "      <th>1</th>\n",
       "      <td>0</td>\n",
       "      <td>0.803528</td>\n",
       "      <td>5.200622</td>\n",
       "      <td>-1.785669</td>\n",
       "      <td>-1.682632</td>\n",
       "      <td>-1.576298</td>\n",
       "      <td>0.985084</td>\n",
       "      <td>-0.088441</td>\n",
       "      <td>-0.022528</td>\n",
       "      <td>-0.255439</td>\n",
       "      <td>...</td>\n",
       "      <td>-0.066962</td>\n",
       "      <td>-0.10339</td>\n",
       "      <td>-1.257033</td>\n",
       "      <td>-0.005036</td>\n",
       "      <td>-0.008723</td>\n",
       "      <td>-0.573455</td>\n",
       "      <td>-0.261359</td>\n",
       "      <td>3.67431</td>\n",
       "      <td>-0.084573</td>\n",
       "      <td>0.0</td>\n",
       "    </tr>\n",
       "    <tr>\n",
       "      <th>2</th>\n",
       "      <td>0</td>\n",
       "      <td>-0.321097</td>\n",
       "      <td>-0.002327</td>\n",
       "      <td>0.073315</td>\n",
       "      <td>0.876697</td>\n",
       "      <td>-1.402891</td>\n",
       "      <td>0.033725</td>\n",
       "      <td>-0.088441</td>\n",
       "      <td>-0.022528</td>\n",
       "      <td>-0.255439</td>\n",
       "      <td>...</td>\n",
       "      <td>-0.066962</td>\n",
       "      <td>-0.10339</td>\n",
       "      <td>-1.257033</td>\n",
       "      <td>-0.005036</td>\n",
       "      <td>-0.008723</td>\n",
       "      <td>1.743816</td>\n",
       "      <td>-0.261359</td>\n",
       "      <td>-0.27216</td>\n",
       "      <td>-0.084573</td>\n",
       "      <td>0.0</td>\n",
       "    </tr>\n",
       "    <tr>\n",
       "      <th>3</th>\n",
       "      <td>0</td>\n",
       "      <td>-0.321097</td>\n",
       "      <td>-0.201095</td>\n",
       "      <td>0.931307</td>\n",
       "      <td>0.236865</td>\n",
       "      <td>0.620190</td>\n",
       "      <td>-0.032501</td>\n",
       "      <td>-0.088441</td>\n",
       "      <td>-0.022528</td>\n",
       "      <td>-0.255439</td>\n",
       "      <td>...</td>\n",
       "      <td>-0.066962</td>\n",
       "      <td>-0.10339</td>\n",
       "      <td>0.795524</td>\n",
       "      <td>-0.005036</td>\n",
       "      <td>-0.008723</td>\n",
       "      <td>-0.573455</td>\n",
       "      <td>-0.261359</td>\n",
       "      <td>-0.27216</td>\n",
       "      <td>-0.084573</td>\n",
       "      <td>0.0</td>\n",
       "    </tr>\n",
       "    <tr>\n",
       "      <th>4</th>\n",
       "      <td>0</td>\n",
       "      <td>-0.321097</td>\n",
       "      <td>-0.190178</td>\n",
       "      <td>0.073315</td>\n",
       "      <td>0.411365</td>\n",
       "      <td>-1.056077</td>\n",
       "      <td>-0.032501</td>\n",
       "      <td>-0.088441</td>\n",
       "      <td>-0.022528</td>\n",
       "      <td>-0.255439</td>\n",
       "      <td>...</td>\n",
       "      <td>-0.066962</td>\n",
       "      <td>-0.10339</td>\n",
       "      <td>-1.257033</td>\n",
       "      <td>-0.005036</td>\n",
       "      <td>-0.008723</td>\n",
       "      <td>1.743816</td>\n",
       "      <td>-0.261359</td>\n",
       "      <td>-0.27216</td>\n",
       "      <td>-0.084573</td>\n",
       "      <td>0.0</td>\n",
       "    </tr>\n",
       "  </tbody>\n",
       "</table>\n",
       "<p>5 rows × 102 columns</p>\n",
       "</div>"
      ],
      "text/plain": [
       "   notified  overallseverity  timestamp_dist  start_hour  start_minute  \\\n",
       "0         0        -1.445723        0.097556   -0.784678     -0.868300   \n",
       "1         0         0.803528        5.200622   -1.785669     -1.682632   \n",
       "2         0        -0.321097       -0.002327    0.073315      0.876697   \n",
       "3         0        -0.321097       -0.201095    0.931307      0.236865   \n",
       "4         0        -0.321097       -0.190178    0.073315      0.411365   \n",
       "\n",
       "   start_second  correlatedcount        n1        n2        n3  ...  PRIV-192  \\\n",
       "0      0.273376        -0.019448 -0.088441 -0.022528 -0.255439  ... -0.066962   \n",
       "1     -1.576298         0.985084 -0.088441 -0.022528 -0.255439  ... -0.066962   \n",
       "2     -1.402891         0.033725 -0.088441 -0.022528 -0.255439  ... -0.066962   \n",
       "3      0.620190        -0.032501 -0.088441 -0.022528 -0.255439  ... -0.066962   \n",
       "4     -1.056077        -0.032501 -0.088441 -0.022528 -0.255439  ... -0.066962   \n",
       "\n",
       "   PRIV-CGN  INTERNET  LINK-LOCAL  LOOPBACK   PRIV-10  PRIV-172  PRIV-192  \\\n",
       "0  -0.10339 -1.257033   -0.005036 -0.008723 -0.573455 -0.261359   3.67431   \n",
       "1  -0.10339 -1.257033   -0.005036 -0.008723 -0.573455 -0.261359   3.67431   \n",
       "2  -0.10339 -1.257033   -0.005036 -0.008723  1.743816 -0.261359  -0.27216   \n",
       "3  -0.10339  0.795524   -0.005036 -0.008723 -0.573455 -0.261359  -0.27216   \n",
       "4  -0.10339 -1.257033   -0.005036 -0.008723  1.743816 -0.261359  -0.27216   \n",
       "\n",
       "   PRIV-CGN  BENCH  \n",
       "0 -0.084573    0.0  \n",
       "1 -0.084573    0.0  \n",
       "2 -0.084573    0.0  \n",
       "3 -0.084573    0.0  \n",
       "4 -0.084573    0.0  \n",
       "\n",
       "[5 rows x 102 columns]"
      ]
     },
     "execution_count": 10,
     "metadata": {},
     "output_type": "execute_result"
    }
   ],
   "source": [
    "training.head()"
   ]
  },
  {
   "cell_type": "markdown",
   "metadata": {},
   "source": [
    "## Training dataset preparation"
   ]
  },
  {
   "cell_type": "code",
   "execution_count": 11,
   "metadata": {},
   "outputs": [],
   "source": [
    "from sklearn.model_selection import train_test_split\n",
    "\n",
    "y = training['notified']\n",
    "X = training.drop('notified', axis=1)\n",
    "test_size = 0.3\n",
    "seed = 1011\n",
    "\n",
    "X_train, X_test, y_train, y_test = train_test_split(X, y, test_size=test_size, random_state=seed )"
   ]
  },
  {
   "cell_type": "markdown",
   "metadata": {},
   "source": [
    "## Neural networks"
   ]
  },
  {
   "cell_type": "code",
   "execution_count": 12,
   "metadata": {},
   "outputs": [
    {
     "data": {
      "text/plain": [
       "MLPClassifier(activation='logistic', alpha=1e-05, batch_size='auto',\n",
       "       beta_1=0.9, beta_2=0.999, early_stopping=False, epsilon=1e-08,\n",
       "       hidden_layer_sizes=(50, 25, 2), learning_rate='constant',\n",
       "       learning_rate_init=0.001, max_iter=1000, momentum=0.9,\n",
       "       n_iter_no_change=10, nesterovs_momentum=True, power_t=0.5,\n",
       "       random_state=1, shuffle=True, solver='adam', tol=0.0001,\n",
       "       validation_fraction=0.1, verbose=False, warm_start=False)"
      ]
     },
     "execution_count": 12,
     "metadata": {},
     "output_type": "execute_result"
    }
   ],
   "source": [
    "from sklearn.neural_network import MLPClassifier\n",
    "clf = MLPClassifier(solver='adam', alpha=1e-5, hidden_layer_sizes=(50, 25, 2), random_state=1, activation='logistic', max_iter=1000)\n",
    "clf.fit(X_train, y_train)"
   ]
  },
  {
   "cell_type": "code",
   "execution_count": 13,
   "metadata": {},
   "outputs": [],
   "source": [
    "predictions = clf.predict_proba(X_test)"
   ]
  },
  {
   "cell_type": "markdown",
   "metadata": {},
   "source": [
    "### Evaluation"
   ]
  },
  {
   "cell_type": "code",
   "execution_count": 14,
   "metadata": {},
   "outputs": [
    {
     "data": {
      "text/plain": [
       "0.8307936173251104"
      ]
     },
     "execution_count": 14,
     "metadata": {},
     "output_type": "execute_result"
    }
   ],
   "source": [
    "from sklearn import metrics\n",
    "metrics.roc_auc_score(y_test, predictions[:,1])"
   ]
  },
  {
   "cell_type": "code",
   "execution_count": null,
   "metadata": {},
   "outputs": [],
   "source": []
  }
 ],
 "metadata": {
  "kernelspec": {
   "display_name": "Python 3",
   "language": "python",
   "name": "python3"
  },
  "language_info": {
   "codemirror_mode": {
    "name": "ipython",
    "version": 3
   },
   "file_extension": ".py",
   "mimetype": "text/x-python",
   "name": "python",
   "nbconvert_exporter": "python",
   "pygments_lexer": "ipython3",
   "version": "3.7.3"
  }
 },
 "nbformat": 4,
 "nbformat_minor": 2
}
