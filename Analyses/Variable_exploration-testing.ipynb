{
 "cells": [
  {
   "cell_type": "markdown",
   "metadata": {},
   "source": [
    "# IEEE Big Data Challenge"
   ]
  },
  {
   "cell_type": "markdown",
   "metadata": {},
   "source": [
    "## Initial steps"
   ]
  },
  {
   "cell_type": "markdown",
   "metadata": {},
   "source": [
    "Import libraries"
   ]
  },
  {
   "cell_type": "code",
   "execution_count": 1,
   "metadata": {},
   "outputs": [],
   "source": [
    "import pandas as pd\n",
    "import numpy as np\n",
    "import seaborn as sns\n",
    "import matplotlib.pyplot as plt\n",
    "%matplotlib inline"
   ]
  },
  {
   "cell_type": "code",
   "execution_count": 2,
   "metadata": {},
   "outputs": [],
   "source": [
    "training = pd.read_csv('./cybersecurity_test.csv', delimiter=\"|\", header=[0])"
   ]
  },
  {
   "cell_type": "code",
   "execution_count": 3,
   "metadata": {},
   "outputs": [
    {
     "data": {
      "text/html": [
       "<div>\n",
       "<style scoped>\n",
       "    .dataframe tbody tr th:only-of-type {\n",
       "        vertical-align: middle;\n",
       "    }\n",
       "\n",
       "    .dataframe tbody tr th {\n",
       "        vertical-align: top;\n",
       "    }\n",
       "\n",
       "    .dataframe thead th {\n",
       "        text-align: right;\n",
       "    }\n",
       "</style>\n",
       "<table border=\"1\" class=\"dataframe\">\n",
       "  <thead>\n",
       "    <tr style=\"text-align: right;\">\n",
       "      <th></th>\n",
       "      <th>alert_ids</th>\n",
       "      <th>client_code</th>\n",
       "      <th>categoryname</th>\n",
       "      <th>ip</th>\n",
       "      <th>ipcategory_name</th>\n",
       "      <th>ipcategory_scope</th>\n",
       "      <th>parent_category</th>\n",
       "      <th>grandparent_category</th>\n",
       "      <th>overallseverity</th>\n",
       "      <th>timestamp_dist</th>\n",
       "      <th>...</th>\n",
       "      <th>thrcnt_week</th>\n",
       "      <th>thrcnt_day</th>\n",
       "      <th>p6</th>\n",
       "      <th>p9</th>\n",
       "      <th>p5m</th>\n",
       "      <th>p5w</th>\n",
       "      <th>p5d</th>\n",
       "      <th>p8m</th>\n",
       "      <th>p8w</th>\n",
       "      <th>p8d</th>\n",
       "    </tr>\n",
       "  </thead>\n",
       "  <tbody>\n",
       "    <tr>\n",
       "      <th>0</th>\n",
       "      <td>Slg</td>\n",
       "      <td>RLJ</td>\n",
       "      <td>Exploit</td>\n",
       "      <td>MW.YB.50.64</td>\n",
       "      <td>INTERNET</td>\n",
       "      <td>Internet</td>\n",
       "      <td>7</td>\n",
       "      <td>A</td>\n",
       "      <td>3</td>\n",
       "      <td>0</td>\n",
       "      <td>...</td>\n",
       "      <td>298</td>\n",
       "      <td>42</td>\n",
       "      <td>1</td>\n",
       "      <td>0</td>\n",
       "      <td>1</td>\n",
       "      <td>1</td>\n",
       "      <td>1</td>\n",
       "      <td>1</td>\n",
       "      <td>1</td>\n",
       "      <td>1</td>\n",
       "    </tr>\n",
       "    <tr>\n",
       "      <th>1</th>\n",
       "      <td>WKM</td>\n",
       "      <td>UZT</td>\n",
       "      <td>Exploit</td>\n",
       "      <td>IJ.NW.77.74</td>\n",
       "      <td>INTERNET</td>\n",
       "      <td>Internet</td>\n",
       "      <td>7</td>\n",
       "      <td>A</td>\n",
       "      <td>5</td>\n",
       "      <td>0</td>\n",
       "      <td>...</td>\n",
       "      <td>11</td>\n",
       "      <td>3</td>\n",
       "      <td>1</td>\n",
       "      <td>0</td>\n",
       "      <td>1</td>\n",
       "      <td>1</td>\n",
       "      <td>1</td>\n",
       "      <td>1</td>\n",
       "      <td>1</td>\n",
       "      <td>1</td>\n",
       "    </tr>\n",
       "    <tr>\n",
       "      <th>2</th>\n",
       "      <td>dkm</td>\n",
       "      <td>ZZW</td>\n",
       "      <td>Attack</td>\n",
       "      <td>YT.LB.36.21</td>\n",
       "      <td>INTERNET</td>\n",
       "      <td>Internet</td>\n",
       "      <td>7</td>\n",
       "      <td>A</td>\n",
       "      <td>3</td>\n",
       "      <td>0</td>\n",
       "      <td>...</td>\n",
       "      <td>3601</td>\n",
       "      <td>602</td>\n",
       "      <td>1</td>\n",
       "      <td>0</td>\n",
       "      <td>3</td>\n",
       "      <td>1</td>\n",
       "      <td>1</td>\n",
       "      <td>1</td>\n",
       "      <td>1</td>\n",
       "      <td>1</td>\n",
       "    </tr>\n",
       "    <tr>\n",
       "      <th>3</th>\n",
       "      <td>RIX</td>\n",
       "      <td>QXG</td>\n",
       "      <td>Attack</td>\n",
       "      <td>172.BW.LB.105</td>\n",
       "      <td>PRIV-172</td>\n",
       "      <td>Private network</td>\n",
       "      <td>1</td>\n",
       "      <td>A</td>\n",
       "      <td>3</td>\n",
       "      <td>0</td>\n",
       "      <td>...</td>\n",
       "      <td>12</td>\n",
       "      <td>4</td>\n",
       "      <td>1</td>\n",
       "      <td>0</td>\n",
       "      <td>3</td>\n",
       "      <td>1</td>\n",
       "      <td>1</td>\n",
       "      <td>2</td>\n",
       "      <td>1</td>\n",
       "      <td>1</td>\n",
       "    </tr>\n",
       "    <tr>\n",
       "      <th>4</th>\n",
       "      <td>qFU</td>\n",
       "      <td>PDU</td>\n",
       "      <td>Exploit</td>\n",
       "      <td>YT.LB.32.110</td>\n",
       "      <td>INTERNET</td>\n",
       "      <td>Internet</td>\n",
       "      <td>7</td>\n",
       "      <td>A</td>\n",
       "      <td>3</td>\n",
       "      <td>258273</td>\n",
       "      <td>...</td>\n",
       "      <td>131</td>\n",
       "      <td>20</td>\n",
       "      <td>1</td>\n",
       "      <td>0</td>\n",
       "      <td>1</td>\n",
       "      <td>1</td>\n",
       "      <td>1</td>\n",
       "      <td>1</td>\n",
       "      <td>1</td>\n",
       "      <td>1</td>\n",
       "    </tr>\n",
       "  </tbody>\n",
       "</table>\n",
       "<p>5 rows × 62 columns</p>\n",
       "</div>"
      ],
      "text/plain": [
       "  alert_ids client_code categoryname             ip ipcategory_name  \\\n",
       "0       Slg         RLJ      Exploit    MW.YB.50.64        INTERNET   \n",
       "1       WKM         UZT      Exploit    IJ.NW.77.74        INTERNET   \n",
       "2       dkm         ZZW       Attack    YT.LB.36.21        INTERNET   \n",
       "3       RIX         QXG       Attack  172.BW.LB.105        PRIV-172   \n",
       "4       qFU         PDU      Exploit   YT.LB.32.110        INTERNET   \n",
       "\n",
       "  ipcategory_scope  parent_category grandparent_category  overallseverity  \\\n",
       "0         Internet                7                    A                3   \n",
       "1         Internet                7                    A                5   \n",
       "2         Internet                7                    A                3   \n",
       "3  Private network                1                    A                3   \n",
       "4         Internet                7                    A                3   \n",
       "\n",
       "   timestamp_dist  ...  thrcnt_week  thrcnt_day  p6 p9  p5m  p5w  p5d  p8m  \\\n",
       "0               0  ...          298          42   1  0    1    1    1    1   \n",
       "1               0  ...           11           3   1  0    1    1    1    1   \n",
       "2               0  ...         3601         602   1  0    3    1    1    1   \n",
       "3               0  ...           12           4   1  0    3    1    1    2   \n",
       "4          258273  ...          131          20   1  0    1    1    1    1   \n",
       "\n",
       "   p8w  p8d  \n",
       "0    1    1  \n",
       "1    1    1  \n",
       "2    1    1  \n",
       "3    1    1  \n",
       "4    1    1  \n",
       "\n",
       "[5 rows x 62 columns]"
      ]
     },
     "execution_count": 3,
     "metadata": {},
     "output_type": "execute_result"
    }
   ],
   "source": [
    "training.head()"
   ]
  },
  {
   "cell_type": "code",
   "execution_count": 4,
   "metadata": {},
   "outputs": [
    {
     "name": "stdout",
     "output_type": "stream",
     "text": [
      "<class 'pandas.core.frame.DataFrame'>\n",
      "RangeIndex: 20000 entries, 0 to 19999\n",
      "Data columns (total 62 columns):\n",
      "alert_ids                   20000 non-null object\n",
      "client_code                 20000 non-null object\n",
      "categoryname                20000 non-null object\n",
      "ip                          20000 non-null object\n",
      "ipcategory_name             20000 non-null object\n",
      "ipcategory_scope            20000 non-null object\n",
      "parent_category             20000 non-null int64\n",
      "grandparent_category        20000 non-null object\n",
      "overallseverity             20000 non-null int64\n",
      "timestamp_dist              20000 non-null int64\n",
      "start_hour                  20000 non-null int64\n",
      "start_minute                20000 non-null int64\n",
      "start_second                20000 non-null int64\n",
      "weekday                     20000 non-null object\n",
      "correlatedcount             20000 non-null int64\n",
      "n1                          14411 non-null float64\n",
      "n2                          14411 non-null float64\n",
      "n3                          14411 non-null float64\n",
      "n4                          14411 non-null float64\n",
      "n5                          14411 non-null float64\n",
      "n6                          14411 non-null float64\n",
      "n7                          14411 non-null float64\n",
      "n8                          14411 non-null float64\n",
      "n9                          14411 non-null float64\n",
      "n10                         14411 non-null float64\n",
      "score                       14411 non-null float64\n",
      "srcip_cd                    20000 non-null int64\n",
      "dstip_cd                    20000 non-null int64\n",
      "srcport_cd                  20000 non-null int64\n",
      "dstport_cd                  20000 non-null int64\n",
      "alerttype_cd                20000 non-null int64\n",
      "direction_cd                20000 non-null int64\n",
      "eventname_cd                20000 non-null int64\n",
      "severity_cd                 20000 non-null int64\n",
      "reportingdevice_cd          20000 non-null int64\n",
      "devicetype_cd               20000 non-null int64\n",
      "devicevendor_cd             20000 non-null int64\n",
      "domain_cd                   20000 non-null int64\n",
      "protocol_cd                 20000 non-null int64\n",
      "username_cd                 20000 non-null int64\n",
      "srcipcategory_cd            20000 non-null int64\n",
      "dstipcategory_cd            20000 non-null int64\n",
      "isiptrusted                 20000 non-null int64\n",
      "untrustscore                20000 non-null int64\n",
      "flowscore                   20000 non-null int64\n",
      "trustscore                  20000 non-null int64\n",
      "enforcementscore            20000 non-null int64\n",
      "dstipcategory_dominate      20000 non-null object\n",
      "srcipcategory_dominate      20000 non-null object\n",
      "dstportcategory_dominate    20000 non-null int64\n",
      "srcportcategory_dominate    20000 non-null int64\n",
      "thrcnt_month                20000 non-null int64\n",
      "thrcnt_week                 20000 non-null int64\n",
      "thrcnt_day                  20000 non-null int64\n",
      "p6                          20000 non-null int64\n",
      "p9                          20000 non-null int64\n",
      "p5m                         20000 non-null int64\n",
      "p5w                         20000 non-null int64\n",
      "p5d                         20000 non-null int64\n",
      "p8m                         20000 non-null int64\n",
      "p8w                         20000 non-null int64\n",
      "p8d                         20000 non-null int64\n",
      "dtypes: float64(11), int64(41), object(10)\n",
      "memory usage: 9.5+ MB\n"
     ]
    }
   ],
   "source": [
    "training.info()"
   ]
  },
  {
   "cell_type": "markdown",
   "metadata": {},
   "source": [
    "Variable Type Changes"
   ]
  },
  {
   "cell_type": "markdown",
   "metadata": {},
   "source": [
    "## Explanatory analysis of the variables"
   ]
  },
  {
   "cell_type": "markdown",
   "metadata": {},
   "source": [
    "### Define explanatory analyses"
   ]
  },
  {
   "cell_type": "code",
   "execution_count": 5,
   "metadata": {},
   "outputs": [],
   "source": [
    "def categorical_variable_exploration( dataset,column, predicted_column, normalize, stacked):\n",
    "    # Params: \n",
    "    #    dataset : Dataframe\n",
    "    #    column : name of the categorical column\n",
    "    #    predicted_column: name of the predicted variable\n",
    "    #    normalize: True/False whether to normalize bar plot\n",
    "    #    stacked: True/False whether to stack bar plot \n",
    "    \n",
    "    print(\"Describe\")\n",
    "    print(dataset[column].describe())\n",
    "    print(\"\\n\")\n",
    "    print(\"Value counts\")\n",
    "    print(dataset[column].value_counts())\n",
    "    print(\"\\n\")\n",
    "   # print(\"Value counts by \", predicted_column)\n",
    "   # print(training.groupby(column)[predicted_column].value_counts(normalize=normalize).unstack())\n",
    "    #print(\"\\n\")\n",
    "    #fig = plt.figure()\n",
    "    #fig.set_size_inches(12,8)\n",
    "    #dataset.groupby(column)[predicted_column].value_counts(normalize=normalize).unstack().plot(kind='bar', stacked=stacked, figsize=(12,8))\n",
    "    #plt.show()\n",
    "    \n",
    "def joint_variable_exploration(dataset, column, predicted_column, bin_num, quantile, log_scale, no_notify, notify):\n",
    "    \n",
    "    print(\"Describe\")\n",
    "    print(dataset[column].describe())\n",
    "    print(\"\\n\")\n",
    "    \n",
    "    # Basic Histogram\n",
    "    print(\"Basic Histogram\")\n",
    "    sns.set(style=\"darkgrid\", palette=\"muted\", color_codes=True)\n",
    "    fig = plt.figure()\n",
    "    fig.set_size_inches(12,8)\n",
    "    fig = sns.distplot(dataset[column],bins=bin_num, kde=False)\n",
    "    if log_scale:\n",
    "        fig.set_yscale('log')\n",
    "    plt.show()\n",
    "    \n",
    "    #print(\"Histogram by \",predicted_column)\n",
    "    \n",
    "    # Prepare variables\n",
    "    #notified =  dataset.loc[dataset.notified == 1, column]\n",
    "    #not_notified = dataset.loc[dataset.notified== 0, column]\n",
    "    #print(\"not_notified\", not_notified.describe())\n",
    "    #print(\"\\n\") \n",
    "    #print(\"notified: \", notified.describe())\n",
    "    #print(\"\\n\")\n",
    "   \n",
    "   \n",
    "    #fig = plt.figure(figsize=(16,8))\n",
    "    #if notify:\n",
    "    #    fig = sns.distplot(notified[notified <= notified.quantile(quantile)], color=\"dodgerblue\", label=\"notified\", bins = bin_num, kde=False)\n",
    "    #if no_notify:\n",
    "    #    fig = sns.distplot(not_notified[not_notified <= not_notified.quantile(quantile)], color=\"orange\", label=\"not_notified\", bins = bin_num, kde=False)\n",
    "    #if log_scale:\n",
    "    #    fig.set_yscale('log')\n",
    "    #plt.legend();\n",
    "    #plt.show()"
   ]
  },
  {
   "cell_type": "markdown",
   "metadata": {},
   "source": [
    "### alert_ids\n",
    "\n",
    "- an identifier of the alert, values from this column should be used to match the corresponding records from the event_logs files \n",
    "- unique, no relation to the \"notified\""
   ]
  },
  {
   "cell_type": "markdown",
   "metadata": {},
   "source": [
    "### client_code\n",
    "\n",
    "- encrypted identifiers of clients for which alerts were generated"
   ]
  },
  {
   "cell_type": "code",
   "execution_count": 6,
   "metadata": {},
   "outputs": [
    {
     "data": {
      "text/plain": [
       "OTS    419\n",
       "WYF    412\n",
       "UZT    367\n",
       "QQH    341\n",
       "MBG    332\n",
       "PCV    326\n",
       "AMC    320\n",
       "OPC    263\n",
       "OUW    249\n",
       "SHB    241\n",
       "XFA    236\n",
       "ZRV    234\n",
       "DQN    228\n",
       "RBC    210\n",
       "IYB    210\n",
       "BMU    202\n",
       "QQC    189\n",
       "QCN    184\n",
       "TUE    179\n",
       "VMQ    172\n",
       "VBG    172\n",
       "TRK    171\n",
       "RVK    166\n",
       "ZAJ    163\n",
       "OWD    161\n",
       "QPI    158\n",
       "HIV    153\n",
       "CHP    150\n",
       "WDX    149\n",
       "LSB    149\n",
       "      ... \n",
       "XLL     16\n",
       "JGW     16\n",
       "FKW     14\n",
       "ZTR     14\n",
       "LHY     13\n",
       "NKJ     12\n",
       "SII     12\n",
       "LWI     12\n",
       "GKY     11\n",
       "HTP     11\n",
       "ZPO     10\n",
       "PVQ     10\n",
       "YDU     10\n",
       "BKQ      8\n",
       "YWC      8\n",
       "KKL      7\n",
       "NSX      7\n",
       "RCX      6\n",
       "RYC      6\n",
       "ZIB      5\n",
       "WOR      5\n",
       "GJY      5\n",
       "FIL      4\n",
       "BRA      4\n",
       "ODR      4\n",
       "TIY      3\n",
       "UXA      3\n",
       "BCX      3\n",
       "EAM      3\n",
       "OAO      1\n",
       "Name: client_code, Length: 264, dtype: int64"
      ]
     },
     "execution_count": 6,
     "metadata": {},
     "output_type": "execute_result"
    }
   ],
   "source": [
    "training['client_code'].value_counts()"
   ]
  },
  {
   "cell_type": "markdown",
   "metadata": {},
   "source": [
    "### categoryname\n",
    "\n",
    "- a category name of the alert that corresponds to its severity\n",
    "- categorical value"
   ]
  },
  {
   "cell_type": "code",
   "execution_count": 7,
   "metadata": {},
   "outputs": [
    {
     "name": "stdout",
     "output_type": "stream",
     "text": [
      "Describe\n",
      "count       20000\n",
      "unique          6\n",
      "top       Exploit\n",
      "freq         9632\n",
      "Name: categoryname, dtype: object\n",
      "\n",
      "\n",
      "Value counts\n",
      "Exploit                 9632\n",
      "Attack                  7288\n",
      "Control and Maintain    1973\n",
      "Reconnaissance           517\n",
      "Attack Preparation       390\n",
      "Compromise               200\n",
      "Name: categoryname, dtype: int64\n",
      "\n",
      "\n"
     ]
    }
   ],
   "source": [
    "categorical_variable_exploration(dataset=training, column='categoryname', predicted_column='notified', normalize=True, stacked=True)"
   ]
  },
  {
   "cell_type": "markdown",
   "metadata": {},
   "source": [
    "### ip\n",
    "\n",
    "- an encrypted IP address corresponding to the alert\n",
    "- TODO: do subnet variable"
   ]
  },
  {
   "cell_type": "code",
   "execution_count": 8,
   "metadata": {},
   "outputs": [
    {
     "data": {
      "text/plain": [
       "YT.LB.32.21      628\n",
       "MC.ER.197.27     518\n",
       "YT.LB.34.21      434\n",
       "YT.RD.254.202    413\n",
       "OQ.QJ.38.32      373\n",
       "YT.LB.36.21      352\n",
       "YT.LB.38.21      340\n",
       "YT.LB.32.10      319\n",
       "YT.LB.36.10      191\n",
       "ZU.SK.99.55      174\n",
       "YT.LB.34.10      173\n",
       "YT.LB.38.10      136\n",
       "192.SL.PF.5       80\n",
       "EU.LI.205.34      61\n",
       "YT.LB.32.105      53\n",
       "10.FG.BV.37       51\n",
       "10.KW.GO.30       50\n",
       "10.XW.BV.6        50\n",
       "BI.AL.26.27       49\n",
       "BI.AL.26.50       45\n",
       "YT.LB.32.114      44\n",
       "MW.YB.49.129      43\n",
       "10.FG.BV.33       39\n",
       "10.NF.ZT.53       39\n",
       "FX.GZ.67.43       36\n",
       "ZU.SK.99.134      35\n",
       "FX.GZ.67.42       34\n",
       "FX.GZ.67.44       33\n",
       "YT.LB.36.105      32\n",
       "LW.TV.255.202     31\n",
       "                ... \n",
       "192.SL.ZC.121      1\n",
       "10.ZC.PH.23        1\n",
       "10.MT.UC.200       1\n",
       "10.FE.PO.98        1\n",
       "10.SU.CV.42        1\n",
       "10.MJ.PF.91        1\n",
       "10.DK.YR.144       1\n",
       "OL.YM.106.99       1\n",
       "192.SL.ZT.76       1\n",
       "WA.TV.15.80        1\n",
       "DD.ZS.10.161       1\n",
       "192.SL.XJ.4        1\n",
       "10.BW.OR.124       1\n",
       "10.VS.SZ.106       1\n",
       "10.YK.SD.77        1\n",
       "10.HE.BV.12        1\n",
       "PA.JM.148.202      1\n",
       "172.IJ.BM.18       1\n",
       "10.BK.SZ.121       1\n",
       "10.CK.AK.21        1\n",
       "RQ.KV.53.198       1\n",
       "192.SL.NO.110      1\n",
       "PA.MJ.224.5        1\n",
       "RN.SQ.206.26       1\n",
       "KD.OP.192.83       1\n",
       "YT.NN.63.104       1\n",
       "10.DN.IT.155       1\n",
       "10.TV.PH.8         1\n",
       "172.ZC.MX.193      1\n",
       "192.SL.JG.46       1\n",
       "Name: ip, Length: 8499, dtype: int64"
      ]
     },
     "execution_count": 8,
     "metadata": {},
     "output_type": "execute_result"
    }
   ],
   "source": [
    "training['ip'].value_counts()"
   ]
  },
  {
   "cell_type": "markdown",
   "metadata": {},
   "source": [
    "### ipcategory_name\n",
    "\n",
    "- a category of the corresponding IP, created based on https://en.wikipedia.org/wiki/Reserved_IP_addresses\n"
   ]
  },
  {
   "cell_type": "code",
   "execution_count": 10,
   "metadata": {},
   "outputs": [
    {
     "name": "stdout",
     "output_type": "stream",
     "text": [
      "Describe\n",
      "count        20000\n",
      "unique           9\n",
      "top       INTERNET\n",
      "freq         11005\n",
      "Name: ipcategory_name, dtype: object\n",
      "\n",
      "\n",
      "Value counts\n",
      "INTERNET      11005\n",
      "PRIV-10        6107\n",
      "PRIV-192       1647\n",
      "PRIV-172       1225\n",
      "LOOPBACK          6\n",
      "LINK-LOCAL        4\n",
      "MULTICAST         3\n",
      "BROADCAST         2\n",
      "BENCH             1\n",
      "Name: ipcategory_name, dtype: int64\n",
      "\n",
      "\n"
     ]
    }
   ],
   "source": [
    "categorical_variable_exploration(dataset=training, column='ipcategory_name', predicted_column='notified', normalize=True, stacked=True)"
   ]
  },
  {
   "cell_type": "markdown",
   "metadata": {},
   "source": [
    "### ipcategory_scope\n",
    "\n",
    "- a domain of the corresponding IP category, created based on https://en.wikipedia.org/wiki/Reserved_IP_addresses"
   ]
  },
  {
   "cell_type": "code",
   "execution_count": 11,
   "metadata": {},
   "outputs": [
    {
     "name": "stdout",
     "output_type": "stream",
     "text": [
      "Describe\n",
      "count        20000\n",
      "unique           4\n",
      "top       Internet\n",
      "freq         11008\n",
      "Name: ipcategory_scope, dtype: object\n",
      "\n",
      "\n",
      "Value counts\n",
      "Internet           11008\n",
      "Private network     8980\n",
      "Subnet                 6\n",
      "Host                   6\n",
      "Name: ipcategory_scope, dtype: int64\n",
      "\n",
      "\n"
     ]
    }
   ],
   "source": [
    "categorical_variable_exploration(dataset=training, column='ipcategory_scope', predicted_column='notified', normalize=True, stacked=True)"
   ]
  },
  {
   "cell_type": "markdown",
   "metadata": {},
   "source": [
    "### parent_category\n",
    "\n",
    "- a parent category of the IP category name"
   ]
  },
  {
   "cell_type": "code",
   "execution_count": 12,
   "metadata": {},
   "outputs": [
    {
     "name": "stdout",
     "output_type": "stream",
     "text": [
      "Describe\n",
      "count    20000.000000\n",
      "mean         4.303800\n",
      "std          2.983513\n",
      "min          1.000000\n",
      "25%          1.000000\n",
      "50%          7.000000\n",
      "75%          7.000000\n",
      "max          7.000000\n",
      "Name: parent_category, dtype: float64\n",
      "\n",
      "\n",
      "Value counts\n",
      "7    11005\n",
      "1     8979\n",
      "4        8\n",
      "3        5\n",
      "5        3\n",
      "Name: parent_category, dtype: int64\n",
      "\n",
      "\n"
     ]
    }
   ],
   "source": [
    "categorical_variable_exploration(dataset=training, column='parent_category', predicted_column='notified', normalize=True, stacked=True)"
   ]
  },
  {
   "cell_type": "markdown",
   "metadata": {},
   "source": [
    "### grandparent_category\n",
    "\n",
    "- a grandparent category of the IP category name\n",
    "- no idea what is this about\n",
    "- useless"
   ]
  },
  {
   "cell_type": "code",
   "execution_count": 13,
   "metadata": {},
   "outputs": [
    {
     "name": "stdout",
     "output_type": "stream",
     "text": [
      "Describe\n",
      "count     20000\n",
      "unique        2\n",
      "top           A\n",
      "freq      19989\n",
      "Name: grandparent_category, dtype: object\n",
      "\n",
      "\n",
      "Value counts\n",
      "A    19989\n",
      "B       11\n",
      "Name: grandparent_category, dtype: int64\n",
      "\n",
      "\n"
     ]
    }
   ],
   "source": [
    "categorical_variable_exploration(dataset=training, column='grandparent_category', predicted_column='notified', normalize=True, stacked=True)"
   ]
  },
  {
   "cell_type": "markdown",
   "metadata": {},
   "source": [
    "### overallseverity\n",
    "\n",
    "- an estimation of the alert severity generated by the system rules\n"
   ]
  },
  {
   "cell_type": "code",
   "execution_count": 14,
   "metadata": {},
   "outputs": [
    {
     "name": "stdout",
     "output_type": "stream",
     "text": [
      "Describe\n",
      "count    20000.000000\n",
      "mean         3.451150\n",
      "std          1.002878\n",
      "min          1.000000\n",
      "25%          3.000000\n",
      "50%          3.000000\n",
      "75%          4.000000\n",
      "max          5.000000\n",
      "Name: overallseverity, dtype: float64\n",
      "\n",
      "\n",
      "Value counts\n",
      "3    8880\n",
      "5    4246\n",
      "4    3757\n",
      "2    3008\n",
      "1     109\n",
      "Name: overallseverity, dtype: int64\n",
      "\n",
      "\n"
     ]
    }
   ],
   "source": [
    "categorical_variable_exploration(dataset=training, column='overallseverity', predicted_column='notified', normalize=True, stacked=True)"
   ]
  },
  {
   "cell_type": "markdown",
   "metadata": {},
   "source": [
    "### timestamp_dist\n",
    "\n",
    "- a time period (in seconds) between the first and the last log event corresponding to the alert\n"
   ]
  },
  {
   "cell_type": "code",
   "execution_count": 15,
   "metadata": {},
   "outputs": [
    {
     "name": "stdout",
     "output_type": "stream",
     "text": [
      "Describe\n",
      "count    2.000000e+04\n",
      "mean     3.582162e+04\n",
      "std      9.971210e+04\n",
      "min      0.000000e+00\n",
      "25%      0.000000e+00\n",
      "50%      1.808000e+03\n",
      "75%      1.707200e+04\n",
      "max      1.391963e+06\n",
      "Name: timestamp_dist, dtype: float64\n",
      "\n",
      "\n",
      "Basic Histogram\n"
     ]
    },
    {
     "data": {
      "image/png": "[encoded data removed]",
      "text/plain": [
       "<Figure size 864x576 with 1 Axes>"
      ]
     },
     "metadata": {},
     "output_type": "display_data"
    }
   ],
   "source": [
    "joint_variable_exploration(dataset=training, column='timestamp_dist', predicted_column='notified', bin_num=100, quantile=1, log_scale=True, no_notify=True, notify=True)"
   ]
  },
  {
   "cell_type": "code",
   "execution_count": 16,
   "metadata": {},
   "outputs": [
    {
     "data": {
      "text/plain": [
       "<matplotlib.axes._subplots.AxesSubplot at 0x7f3e5e09dd68>"
      ]
     },
     "execution_count": 16,
     "metadata": {},
     "output_type": "execute_result"
    },
    {
     "data": {
      "image/png": "[encoded data removed]",
      "text/plain": [
       "<Figure size 864x576 with 1 Axes>"
      ]
     },
     "metadata": {},
     "output_type": "display_data"
    }
   ],
   "source": [
    "sns.set(style=\"darkgrid\", palette=\"muted\", color_codes=True)\n",
    "fig = plt.figure()\n",
    "fig.set_size_inches(12,8)\n",
    "sns.distplot(training[training['timestamp_dist']< training['timestamp_dist'].quantile(0.95)]['timestamp_dist'],bins=50, kde=False)"
   ]
  },
  {
   "cell_type": "markdown",
   "metadata": {},
   "source": [
    "### start_hour\n",
    "- an hour of the first log event that is assumed to be the first of the events corresponding to the alert\n"
   ]
  },
  {
   "cell_type": "code",
   "execution_count": 18,
   "metadata": {},
   "outputs": [
    {
     "name": "stdout",
     "output_type": "stream",
     "text": [
      "Describe\n",
      "count    20000.000000\n",
      "mean        12.471250\n",
      "std          7.239986\n",
      "min          0.000000\n",
      "25%          6.000000\n",
      "50%         13.000000\n",
      "75%         19.000000\n",
      "max         23.000000\n",
      "Name: start_hour, dtype: float64\n",
      "\n",
      "\n",
      "Value counts\n",
      "20    1221\n",
      "23    1132\n",
      "18    1074\n",
      "17    1052\n",
      "22    1029\n",
      "21    1001\n",
      "0      970\n",
      "19     963\n",
      "1      904\n",
      "15     894\n",
      "16     890\n",
      "2      837\n",
      "12     775\n",
      "3      724\n",
      "10     720\n",
      "14     711\n",
      "8      690\n",
      "11     684\n",
      "13     683\n",
      "6      649\n",
      "5      622\n",
      "7      617\n",
      "9      613\n",
      "4      545\n",
      "Name: start_hour, dtype: int64\n",
      "\n",
      "\n"
     ]
    }
   ],
   "source": [
    "categorical_variable_exploration(dataset=training, column='start_hour', predicted_column='notified', normalize=True, stacked=True)"
   ]
  },
  {
   "cell_type": "markdown",
   "metadata": {},
   "source": [
    "### start_minute\n",
    "- a minute of the first log event that is assumed to be the first of the events corresponding to the alert"
   ]
  },
  {
   "cell_type": "code",
   "execution_count": 19,
   "metadata": {},
   "outputs": [
    {
     "name": "stdout",
     "output_type": "stream",
     "text": [
      "Describe\n",
      "count    20000.00000\n",
      "mean        29.09010\n",
      "std         17.56404\n",
      "min          0.00000\n",
      "25%         14.00000\n",
      "50%         29.00000\n",
      "75%         44.00000\n",
      "max         59.00000\n",
      "Name: start_minute, dtype: float64\n",
      "\n",
      "\n",
      "Value counts\n",
      "0     483\n",
      "2     376\n",
      "12    372\n",
      "59    370\n",
      "3     370\n",
      "50    362\n",
      "55    362\n",
      "21    362\n",
      "33    359\n",
      "16    354\n",
      "7     354\n",
      "20    352\n",
      "40    350\n",
      "39    349\n",
      "10    348\n",
      "4     348\n",
      "13    348\n",
      "23    347\n",
      "5     344\n",
      "38    342\n",
      "44    340\n",
      "47    339\n",
      "51    338\n",
      "30    338\n",
      "36    337\n",
      "6     335\n",
      "43    334\n",
      "35    334\n",
      "22    334\n",
      "28    334\n",
      "45    333\n",
      "37    331\n",
      "18    328\n",
      "48    328\n",
      "14    328\n",
      "57    327\n",
      "15    327\n",
      "1     326\n",
      "54    323\n",
      "11    321\n",
      "41    320\n",
      "32    319\n",
      "24    318\n",
      "53    317\n",
      "58    317\n",
      "26    316\n",
      "49    314\n",
      "31    314\n",
      "27    313\n",
      "56    309\n",
      "19    308\n",
      "52    308\n",
      "17    305\n",
      "8     305\n",
      "9     301\n",
      "42    300\n",
      "25    293\n",
      "46    286\n",
      "29    280\n",
      "34    270\n",
      "Name: start_minute, dtype: int64\n",
      "\n",
      "\n"
     ]
    }
   ],
   "source": [
    "categorical_variable_exploration(dataset=training, column='start_minute', predicted_column='notified', normalize=True, stacked=True)"
   ]
  },
  {
   "cell_type": "markdown",
   "metadata": {},
   "source": [
    "### start_second\n",
    "- a second of the first log event that is assumed to be the first of the events corresponding to the alert"
   ]
  },
  {
   "cell_type": "code",
   "execution_count": 20,
   "metadata": {},
   "outputs": [
    {
     "name": "stdout",
     "output_type": "stream",
     "text": [
      "Describe\n",
      "count    20000.00000\n",
      "mean        29.14675\n",
      "std         17.48471\n",
      "min          0.00000\n",
      "25%         14.00000\n",
      "50%         29.00000\n",
      "75%         44.00000\n",
      "max         59.00000\n",
      "Name: start_second, dtype: float64\n",
      "\n",
      "\n",
      "Value counts\n",
      "2     399\n",
      "3     386\n",
      "26    376\n",
      "24    375\n",
      "7     369\n",
      "5     366\n",
      "57    358\n",
      "1     356\n",
      "32    353\n",
      "35    353\n",
      "20    353\n",
      "9     350\n",
      "30    349\n",
      "29    349\n",
      "43    349\n",
      "55    348\n",
      "47    348\n",
      "4     347\n",
      "10    345\n",
      "8     343\n",
      "12    342\n",
      "54    340\n",
      "50    340\n",
      "23    340\n",
      "37    338\n",
      "6     338\n",
      "16    337\n",
      "39    336\n",
      "51    334\n",
      "53    334\n",
      "59    331\n",
      "52    330\n",
      "19    329\n",
      "17    328\n",
      "21    327\n",
      "15    325\n",
      "48    324\n",
      "56    323\n",
      "49    321\n",
      "14    319\n",
      "18    319\n",
      "45    319\n",
      "13    317\n",
      "46    316\n",
      "0     314\n",
      "58    313\n",
      "22    313\n",
      "11    312\n",
      "33    311\n",
      "27    310\n",
      "44    308\n",
      "40    308\n",
      "31    308\n",
      "28    307\n",
      "42    307\n",
      "41    307\n",
      "38    305\n",
      "25    302\n",
      "34    302\n",
      "36    294\n",
      "Name: start_second, dtype: int64\n",
      "\n",
      "\n"
     ]
    }
   ],
   "source": [
    "categorical_variable_exploration(dataset=training, column='start_second', predicted_column='notified', normalize=True, stacked=True)"
   ]
  },
  {
   "cell_type": "markdown",
   "metadata": {},
   "source": [
    "### weekday\n",
    "- a day of week of the first log event that is assumed to be the first of the events corresponding to the alert"
   ]
  },
  {
   "cell_type": "code",
   "execution_count": 21,
   "metadata": {},
   "outputs": [
    {
     "name": "stdout",
     "output_type": "stream",
     "text": [
      "Describe\n",
      "count     20000\n",
      "unique        7\n",
      "top         Fri\n",
      "freq       3952\n",
      "Name: weekday, dtype: object\n",
      "\n",
      "\n",
      "Value counts\n",
      "Fri    3952\n",
      "Thu    3853\n",
      "Wed    2983\n",
      "Tue    2725\n",
      "Sat    2358\n",
      "Mon    2148\n",
      "Sun    1981\n",
      "Name: weekday, dtype: int64\n",
      "\n",
      "\n"
     ]
    }
   ],
   "source": [
    "categorical_variable_exploration(dataset=training, column='weekday', predicted_column='notified', normalize=True, stacked=True)"
   ]
  },
  {
   "cell_type": "markdown",
   "metadata": {},
   "source": [
    "### correlatedcount\n",
    "- a number of records denoted by the system in an auxiliary table with localized alerts, that corresponds to the alert"
   ]
  },
  {
   "cell_type": "code",
   "execution_count": 22,
   "metadata": {},
   "outputs": [
    {
     "name": "stdout",
     "output_type": "stream",
     "text": [
      "Describe\n",
      "count     20000.000000\n",
      "mean        106.164700\n",
      "std        2727.057695\n",
      "min           1.000000\n",
      "25%           1.000000\n",
      "50%           2.000000\n",
      "75%           9.000000\n",
      "max      292479.000000\n",
      "Name: correlatedcount, dtype: float64\n",
      "\n",
      "\n",
      "Basic Histogram\n"
     ]
    },
    {
     "data": {
      "image/png": "[encoded data removed]",
      "text/plain": [
       "<Figure size 864x576 with 1 Axes>"
      ]
     },
     "metadata": {},
     "output_type": "display_data"
    }
   ],
   "source": [
    "joint_variable_exploration(dataset=training, column='correlatedcount', predicted_column='notified', bin_num=80, quantile=1, log_scale=True, no_notify=True, notify=True)"
   ]
  },
  {
   "cell_type": "markdown",
   "metadata": {},
   "source": [
    "### n1, n2 , ... , n10\n",
    "- a binary fields indicating whether a standard system query1 returned value > 0 (it can be understood as a result of a standard analytical query)\n",
    "- n1, n2, n9 could have an impact"
   ]
  },
  {
   "cell_type": "code",
   "execution_count": 23,
   "metadata": {},
   "outputs": [
    {
     "data": {
      "text/html": [
       "<div>\n",
       "<style scoped>\n",
       "    .dataframe tbody tr th:only-of-type {\n",
       "        vertical-align: middle;\n",
       "    }\n",
       "\n",
       "    .dataframe tbody tr th {\n",
       "        vertical-align: top;\n",
       "    }\n",
       "\n",
       "    .dataframe thead th {\n",
       "        text-align: right;\n",
       "    }\n",
       "</style>\n",
       "<table border=\"1\" class=\"dataframe\">\n",
       "  <thead>\n",
       "    <tr style=\"text-align: right;\">\n",
       "      <th></th>\n",
       "      <th>n1</th>\n",
       "      <th>n2</th>\n",
       "      <th>n3</th>\n",
       "      <th>n4</th>\n",
       "      <th>n5</th>\n",
       "      <th>n6</th>\n",
       "      <th>n7</th>\n",
       "      <th>n8</th>\n",
       "      <th>n9</th>\n",
       "      <th>n10</th>\n",
       "    </tr>\n",
       "  </thead>\n",
       "  <tbody>\n",
       "    <tr>\n",
       "      <th>0.0</th>\n",
       "      <td>13683</td>\n",
       "      <td>14285</td>\n",
       "      <td>9365</td>\n",
       "      <td>11593</td>\n",
       "      <td>9200</td>\n",
       "      <td>6757</td>\n",
       "      <td>14411.0</td>\n",
       "      <td>14411.0</td>\n",
       "      <td>14162</td>\n",
       "      <td>14411.0</td>\n",
       "    </tr>\n",
       "    <tr>\n",
       "      <th>1.0</th>\n",
       "      <td>728</td>\n",
       "      <td>126</td>\n",
       "      <td>5046</td>\n",
       "      <td>2818</td>\n",
       "      <td>5211</td>\n",
       "      <td>7654</td>\n",
       "      <td>NaN</td>\n",
       "      <td>NaN</td>\n",
       "      <td>249</td>\n",
       "      <td>NaN</td>\n",
       "    </tr>\n",
       "  </tbody>\n",
       "</table>\n",
       "</div>"
      ],
      "text/plain": [
       "        n1     n2    n3     n4    n5    n6       n7       n8     n9      n10\n",
       "0.0  13683  14285  9365  11593  9200  6757  14411.0  14411.0  14162  14411.0\n",
       "1.0    728    126  5046   2818  5211  7654      NaN      NaN    249      NaN"
      ]
     },
     "execution_count": 23,
     "metadata": {},
     "output_type": "execute_result"
    }
   ],
   "source": [
    "column_list = []\n",
    "for i in range(1,11):\n",
    "    column_list.append(\"n\"+str(i))\n",
    "\n",
    "training[column_list].apply(pd.Series.value_counts)"
   ]
  },
  {
   "cell_type": "code",
   "execution_count": 24,
   "metadata": {},
   "outputs": [
    {
     "name": "stdout",
     "output_type": "stream",
     "text": [
      "Describe\n",
      "count    14411.000000\n",
      "mean         0.050517\n",
      "std          0.219017\n",
      "min          0.000000\n",
      "25%          0.000000\n",
      "50%          0.000000\n",
      "75%          0.000000\n",
      "max          1.000000\n",
      "Name: n1, dtype: float64\n",
      "\n",
      "\n",
      "Value counts\n",
      "0.0    13683\n",
      "1.0      728\n",
      "Name: n1, dtype: int64\n",
      "\n",
      "\n",
      "Describe\n",
      "count    14411.000000\n",
      "mean         0.008743\n",
      "std          0.093099\n",
      "min          0.000000\n",
      "25%          0.000000\n",
      "50%          0.000000\n",
      "75%          0.000000\n",
      "max          1.000000\n",
      "Name: n2, dtype: float64\n",
      "\n",
      "\n",
      "Value counts\n",
      "0.0    14285\n",
      "1.0      126\n",
      "Name: n2, dtype: int64\n",
      "\n",
      "\n",
      "Describe\n",
      "count    14411.000000\n",
      "mean         0.350149\n",
      "std          0.477033\n",
      "min          0.000000\n",
      "25%          0.000000\n",
      "50%          0.000000\n",
      "75%          1.000000\n",
      "max          1.000000\n",
      "Name: n3, dtype: float64\n",
      "\n",
      "\n",
      "Value counts\n",
      "0.0    9365\n",
      "1.0    5046\n",
      "Name: n3, dtype: int64\n",
      "\n",
      "\n",
      "Describe\n",
      "count    14411.000000\n",
      "mean         0.195545\n",
      "std          0.396633\n",
      "min          0.000000\n",
      "25%          0.000000\n",
      "50%          0.000000\n",
      "75%          0.000000\n",
      "max          1.000000\n",
      "Name: n4, dtype: float64\n",
      "\n",
      "\n",
      "Value counts\n",
      "0.0    11593\n",
      "1.0     2818\n",
      "Name: n4, dtype: int64\n",
      "\n",
      "\n",
      "Describe\n",
      "count    14411.000000\n",
      "mean         0.361599\n",
      "std          0.480480\n",
      "min          0.000000\n",
      "25%          0.000000\n",
      "50%          0.000000\n",
      "75%          1.000000\n",
      "max          1.000000\n",
      "Name: n5, dtype: float64\n",
      "\n",
      "\n",
      "Value counts\n",
      "0.0    9200\n",
      "1.0    5211\n",
      "Name: n5, dtype: int64\n",
      "\n",
      "\n",
      "Describe\n",
      "count    14411.000000\n",
      "mean         0.531122\n",
      "std          0.499048\n",
      "min          0.000000\n",
      "25%          0.000000\n",
      "50%          1.000000\n",
      "75%          1.000000\n",
      "max          1.000000\n",
      "Name: n6, dtype: float64\n",
      "\n",
      "\n",
      "Value counts\n",
      "1.0    7654\n",
      "0.0    6757\n",
      "Name: n6, dtype: int64\n",
      "\n",
      "\n",
      "Describe\n",
      "count    14411.0\n",
      "mean         0.0\n",
      "std          0.0\n",
      "min          0.0\n",
      "25%          0.0\n",
      "50%          0.0\n",
      "75%          0.0\n",
      "max          0.0\n",
      "Name: n7, dtype: float64\n",
      "\n",
      "\n",
      "Value counts\n",
      "0.0    14411\n",
      "Name: n7, dtype: int64\n",
      "\n",
      "\n",
      "Describe\n",
      "count    14411.0\n",
      "mean         0.0\n",
      "std          0.0\n",
      "min          0.0\n",
      "25%          0.0\n",
      "50%          0.0\n",
      "75%          0.0\n",
      "max          0.0\n",
      "Name: n8, dtype: float64\n",
      "\n",
      "\n",
      "Value counts\n",
      "0.0    14411\n",
      "Name: n8, dtype: int64\n",
      "\n",
      "\n",
      "Describe\n",
      "count    14411.000000\n",
      "mean         0.017278\n",
      "std          0.130312\n",
      "min          0.000000\n",
      "25%          0.000000\n",
      "50%          0.000000\n",
      "75%          0.000000\n",
      "max          1.000000\n",
      "Name: n9, dtype: float64\n",
      "\n",
      "\n",
      "Value counts\n",
      "0.0    14162\n",
      "1.0      249\n",
      "Name: n9, dtype: int64\n",
      "\n",
      "\n",
      "Describe\n",
      "count    14411.0\n",
      "mean         0.0\n",
      "std          0.0\n",
      "min          0.0\n",
      "25%          0.0\n",
      "50%          0.0\n",
      "75%          0.0\n",
      "max          0.0\n",
      "Name: n10, dtype: float64\n",
      "\n",
      "\n",
      "Value counts\n",
      "0.0    14411\n",
      "Name: n10, dtype: int64\n",
      "\n",
      "\n"
     ]
    }
   ],
   "source": [
    "for column in column_list:\n",
    "    #print(training.groupby([column,'notified']).size())\n",
    "    categorical_variable_exploration(dataset=training, column=column, predicted_column='notified', normalize=True, stacked=True)"
   ]
  },
  {
   "cell_type": "markdown",
   "metadata": {},
   "source": [
    "### score\n",
    "- a score related to the alert, issued by an autonomous analytical model\n",
    "- 7 - not notified"
   ]
  },
  {
   "cell_type": "code",
   "execution_count": 25,
   "metadata": {},
   "outputs": [
    {
     "name": "stdout",
     "output_type": "stream",
     "text": [
      "Describe\n",
      "count    14411.000000\n",
      "mean         2.261328\n",
      "std          1.501880\n",
      "min          0.000000\n",
      "25%          1.000000\n",
      "50%          3.000000\n",
      "75%          3.000000\n",
      "max          7.000000\n",
      "Name: score, dtype: float64\n",
      "\n",
      "\n",
      "Value counts\n",
      "3.0    4371\n",
      "1.0    3914\n",
      "4.0    2471\n",
      "0.0    1962\n",
      "2.0     978\n",
      "5.0     576\n",
      "6.0     132\n",
      "7.0       7\n",
      "Name: score, dtype: int64\n",
      "\n",
      "\n"
     ]
    }
   ],
   "source": [
    "categorical_variable_exploration(dataset=training, column='score', predicted_column='notified', normalize=True, stacked=True)"
   ]
  },
  {
   "cell_type": "markdown",
   "metadata": {},
   "source": [
    "### srcip_cd\n",
    "- a number of different source IP addresses in an auxiliary table with localized alerts, that corresponds to the alert"
   ]
  },
  {
   "cell_type": "code",
   "execution_count": 26,
   "metadata": {},
   "outputs": [
    {
     "name": "stdout",
     "output_type": "stream",
     "text": [
      "Describe\n",
      "count    20000.000000\n",
      "mean        10.380450\n",
      "std         93.179577\n",
      "min          0.000000\n",
      "25%          1.000000\n",
      "50%          1.000000\n",
      "75%          1.000000\n",
      "max       3287.000000\n",
      "Name: srcip_cd, dtype: float64\n",
      "\n",
      "\n",
      "Basic Histogram\n"
     ]
    },
    {
     "data": {
      "image/png": "[encoded data removed]",
      "text/plain": [
       "<Figure size 864x576 with 1 Axes>"
      ]
     },
     "metadata": {},
     "output_type": "display_data"
    }
   ],
   "source": [
    "joint_variable_exploration(dataset=training, column='srcip_cd', predicted_column='notified', bin_num=80, quantile=1, log_scale=True, no_notify=True, notify=True)"
   ]
  },
  {
   "cell_type": "markdown",
   "metadata": {},
   "source": [
    "### dstip_cd\n",
    "- a number of destination IP addresses in an auxiliary table with localized alerts, that corresponds to the alert\n",
    "- more than 13713 -> notifiy"
   ]
  },
  {
   "cell_type": "code",
   "execution_count": 27,
   "metadata": {},
   "outputs": [
    {
     "name": "stdout",
     "output_type": "stream",
     "text": [
      "Describe\n",
      "count    20000.000000\n",
      "mean        19.792100\n",
      "std        362.636169\n",
      "min          0.000000\n",
      "25%          1.000000\n",
      "50%          1.000000\n",
      "75%          1.000000\n",
      "max      39007.000000\n",
      "Name: dstip_cd, dtype: float64\n",
      "\n",
      "\n",
      "Basic Histogram\n"
     ]
    },
    {
     "data": {
      "image/png": "[encoded data removed]",
      "text/plain": [
       "<Figure size 864x576 with 1 Axes>"
      ]
     },
     "metadata": {},
     "output_type": "display_data"
    }
   ],
   "source": [
    "joint_variable_exploration(dataset=training, column='dstip_cd', predicted_column='notified', bin_num=80, quantile=1, log_scale=True, no_notify=True, notify=True)"
   ]
  },
  {
   "cell_type": "markdown",
   "metadata": {},
   "source": [
    "### srcport_cd\n",
    "- a number of different source ports in an auxiliary table with localized alerts, that corresponds to the alert"
   ]
  },
  {
   "cell_type": "code",
   "execution_count": 28,
   "metadata": {},
   "outputs": [
    {
     "name": "stdout",
     "output_type": "stream",
     "text": [
      "Describe\n",
      "count    20000.000000\n",
      "mean        43.667050\n",
      "std        378.052243\n",
      "min          0.000000\n",
      "25%          1.000000\n",
      "50%          1.000000\n",
      "75%          6.000000\n",
      "max      27764.000000\n",
      "Name: srcport_cd, dtype: float64\n",
      "\n",
      "\n",
      "Basic Histogram\n"
     ]
    },
    {
     "data": {
      "image/png": "[encoded data removed]",
      "text/plain": [
       "<Figure size 864x576 with 1 Axes>"
      ]
     },
     "metadata": {},
     "output_type": "display_data"
    }
   ],
   "source": [
    "joint_variable_exploration(dataset=training, column='srcport_cd', predicted_column='notified', bin_num=80, quantile=1, log_scale=True, no_notify=True, notify=True)"
   ]
  },
  {
   "cell_type": "markdown",
   "metadata": {},
   "source": [
    "### dstport_cd\n",
    "- a number of different destination ports in an auxiliary table with localized alerts, that corresponds to the alert"
   ]
  },
  {
   "cell_type": "code",
   "execution_count": 29,
   "metadata": {},
   "outputs": [
    {
     "name": "stdout",
     "output_type": "stream",
     "text": [
      "Describe\n",
      "count    20000.000000\n",
      "mean        20.734100\n",
      "std        227.074392\n",
      "min          0.000000\n",
      "25%          1.000000\n",
      "50%          1.000000\n",
      "75%          1.000000\n",
      "max       9369.000000\n",
      "Name: dstport_cd, dtype: float64\n",
      "\n",
      "\n",
      "Basic Histogram\n"
     ]
    },
    {
     "data": {
      "image/png": "[encoded data removed]",
      "text/plain": [
       "<Figure size 864x576 with 1 Axes>"
      ]
     },
     "metadata": {},
     "output_type": "display_data"
    }
   ],
   "source": [
    "joint_variable_exploration(dataset=training, column='dstport_cd', predicted_column='notified', bin_num=80, quantile=1, log_scale=True, no_notify=True, notify=True)"
   ]
  },
  {
   "cell_type": "markdown",
   "metadata": {},
   "source": [
    "### alerttype_cd\n",
    "- a number of triggered alert types, denoted in an auxiliary table with localized alerts"
   ]
  },
  {
   "cell_type": "code",
   "execution_count": 30,
   "metadata": {},
   "outputs": [
    {
     "name": "stdout",
     "output_type": "stream",
     "text": [
      "Describe\n",
      "count    20000.000000\n",
      "mean         1.171050\n",
      "std          0.580438\n",
      "min          0.000000\n",
      "25%          1.000000\n",
      "50%          1.000000\n",
      "75%          1.000000\n",
      "max         12.000000\n",
      "Name: alerttype_cd, dtype: float64\n",
      "\n",
      "\n",
      "Value counts\n",
      "1     16371\n",
      "2      2282\n",
      "0       594\n",
      "3       593\n",
      "4       123\n",
      "5        25\n",
      "6         7\n",
      "11        2\n",
      "7         2\n",
      "12        1\n",
      "Name: alerttype_cd, dtype: int64\n",
      "\n",
      "\n"
     ]
    }
   ],
   "source": [
    "categorical_variable_exploration(dataset=training, column='alerttype_cd', predicted_column='notified', normalize=True, stacked=True)"
   ]
  },
  {
   "cell_type": "markdown",
   "metadata": {},
   "source": [
    "### direction_cd\n",
    "- a number of different event directions denoted in an auxiliary table with localized alerts, that corresponds to the alert\n",
    "- categorical"
   ]
  },
  {
   "cell_type": "code",
   "execution_count": 31,
   "metadata": {},
   "outputs": [
    {
     "name": "stdout",
     "output_type": "stream",
     "text": [
      "Describe\n",
      "count    20000.000000\n",
      "mean         1.015400\n",
      "std          0.278328\n",
      "min          0.000000\n",
      "25%          1.000000\n",
      "50%          1.000000\n",
      "75%          1.000000\n",
      "max          6.000000\n",
      "Name: direction_cd, dtype: float64\n",
      "\n",
      "\n",
      "Value counts\n",
      "1    18521\n",
      "2      875\n",
      "0      594\n",
      "3        7\n",
      "5        2\n",
      "6        1\n",
      "Name: direction_cd, dtype: int64\n",
      "\n",
      "\n"
     ]
    }
   ],
   "source": [
    "categorical_variable_exploration(dataset=training, column='direction_cd', predicted_column='notified', normalize=True, stacked=True)"
   ]
  },
  {
   "cell_type": "markdown",
   "metadata": {},
   "source": [
    "### eventname_cd\n",
    "- a number of different event names (names of events that are dependent on the hardware) denoted in an auxiliary table with localized alerts, that corresponds to the alert\n",
    "- categorical"
   ]
  },
  {
   "cell_type": "code",
   "execution_count": 32,
   "metadata": {},
   "outputs": [
    {
     "name": "stdout",
     "output_type": "stream",
     "text": [
      "Describe\n",
      "count    20000.000000\n",
      "mean         1.182600\n",
      "std          0.583759\n",
      "min          0.000000\n",
      "25%          1.000000\n",
      "50%          1.000000\n",
      "75%          1.000000\n",
      "max         14.000000\n",
      "Name: eventname_cd, dtype: float64\n",
      "\n",
      "\n",
      "Value counts\n",
      "1     15860\n",
      "2      2853\n",
      "0       669\n",
      "3       470\n",
      "4        96\n",
      "5        37\n",
      "6         8\n",
      "8         3\n",
      "7         3\n",
      "14        1\n",
      "Name: eventname_cd, dtype: int64\n",
      "\n",
      "\n"
     ]
    }
   ],
   "source": [
    "categorical_variable_exploration(dataset=training, column='eventname_cd', predicted_column='notified', normalize=True, stacked=True)"
   ]
  },
  {
   "cell_type": "markdown",
   "metadata": {},
   "source": [
    "### severity_cd\n",
    "- a number of different severity values associated with individual events denoted in an auxiliary table with localized alerts, that corresponds to the alert\n",
    "- categorical"
   ]
  },
  {
   "cell_type": "code",
   "execution_count": 33,
   "metadata": {},
   "outputs": [
    {
     "name": "stdout",
     "output_type": "stream",
     "text": [
      "Describe\n",
      "count    20000.00000\n",
      "mean         1.25720\n",
      "std          0.80348\n",
      "min          0.00000\n",
      "25%          1.00000\n",
      "50%          1.00000\n",
      "75%          1.00000\n",
      "max          5.00000\n",
      "Name: severity_cd, dtype: float64\n",
      "\n",
      "\n",
      "Value counts\n",
      "1    16115\n",
      "2     1955\n",
      "3      618\n",
      "0      594\n",
      "5      393\n",
      "4      325\n",
      "Name: severity_cd, dtype: int64\n",
      "\n",
      "\n"
     ]
    }
   ],
   "source": [
    "categorical_variable_exploration(dataset=training, column='severity_cd', predicted_column='notified', normalize=True, stacked=True)"
   ]
  },
  {
   "cell_type": "markdown",
   "metadata": {},
   "source": [
    "### reportingdevice_cd\n",
    "- a number of different reporting devices (devices that register the events) denoted in an auxiliary table with localized alerts, that corresponds to the alert\n"
   ]
  },
  {
   "cell_type": "code",
   "execution_count": 34,
   "metadata": {},
   "outputs": [
    {
     "name": "stdout",
     "output_type": "stream",
     "text": [
      "Describe\n",
      "count    20000.000000\n",
      "mean         1.202500\n",
      "std          1.455197\n",
      "min          0.000000\n",
      "25%          1.000000\n",
      "50%          1.000000\n",
      "75%          1.000000\n",
      "max        144.000000\n",
      "Name: reportingdevice_cd, dtype: float64\n",
      "\n",
      "\n",
      "Value counts\n",
      "1      16820\n",
      "2       1911\n",
      "0        594\n",
      "3        269\n",
      "4        237\n",
      "5         49\n",
      "6         36\n",
      "7         24\n",
      "8         11\n",
      "9          6\n",
      "10         6\n",
      "14         4\n",
      "12         3\n",
      "13         3\n",
      "15         3\n",
      "11         3\n",
      "18         3\n",
      "20         3\n",
      "16         2\n",
      "30         2\n",
      "26         2\n",
      "21         2\n",
      "24         2\n",
      "28         1\n",
      "37         1\n",
      "144        1\n",
      "25         1\n",
      "31         1\n",
      "Name: reportingdevice_cd, dtype: int64\n",
      "\n",
      "\n"
     ]
    }
   ],
   "source": [
    "categorical_variable_exploration(dataset=training, column='reportingdevice_cd', predicted_column='notified', normalize=True, stacked=True)"
   ]
  },
  {
   "cell_type": "markdown",
   "metadata": {},
   "source": [
    "### devicetype_cd\n",
    "- a number of different reporting device types denoted in an auxiliary table with localized alerts, that corresponds to the alert\n"
   ]
  },
  {
   "cell_type": "code",
   "execution_count": 35,
   "metadata": {},
   "outputs": [
    {
     "name": "stdout",
     "output_type": "stream",
     "text": [
      "Describe\n",
      "count    20000.000000\n",
      "mean         1.024000\n",
      "std          0.309239\n",
      "min          0.000000\n",
      "25%          1.000000\n",
      "50%          1.000000\n",
      "75%          1.000000\n",
      "max          7.000000\n",
      "Name: devicetype_cd, dtype: float64\n",
      "\n",
      "\n",
      "Value counts\n",
      "1    18240\n",
      "2     1070\n",
      "0      660\n",
      "3       27\n",
      "6        2\n",
      "7        1\n",
      "Name: devicetype_cd, dtype: int64\n",
      "\n",
      "\n"
     ]
    }
   ],
   "source": [
    "categorical_variable_exploration(dataset=training, column='devicetype_cd', predicted_column='notified', normalize=True, stacked=True)"
   ]
  },
  {
   "cell_type": "markdown",
   "metadata": {},
   "source": [
    "### devicevendor_cd\n",
    "- a number of different reporting device vendors denoted in an auxiliary table with localized alerts, that corresponds to the alert"
   ]
  },
  {
   "cell_type": "code",
   "execution_count": 36,
   "metadata": {},
   "outputs": [
    {
     "name": "stdout",
     "output_type": "stream",
     "text": [
      "Describe\n",
      "count    20000.000000\n",
      "mean         1.039650\n",
      "std          0.347396\n",
      "min          0.000000\n",
      "25%          1.000000\n",
      "50%          1.000000\n",
      "75%          1.000000\n",
      "max          8.000000\n",
      "Name: devicevendor_cd, dtype: float64\n",
      "\n",
      "\n",
      "Value counts\n",
      "1    18008\n",
      "2     1226\n",
      "0      660\n",
      "3      103\n",
      "8        3\n",
      "Name: devicevendor_cd, dtype: int64\n",
      "\n",
      "\n"
     ]
    }
   ],
   "source": [
    "categorical_variable_exploration(dataset=training, column='devicevendor_cd', predicted_column='notified', normalize=True, stacked=True)"
   ]
  },
  {
   "cell_type": "markdown",
   "metadata": {},
   "source": [
    "### domain_cd\n",
    "- a number of different domains denoted in an auxiliary table with localized alerts, that corresponds to the alert"
   ]
  },
  {
   "cell_type": "code",
   "execution_count": 37,
   "metadata": {},
   "outputs": [
    {
     "name": "stdout",
     "output_type": "stream",
     "text": [
      "Describe\n",
      "count     20000.000000\n",
      "mean         10.972400\n",
      "std        1533.261765\n",
      "min           0.000000\n",
      "25%           0.000000\n",
      "50%           0.000000\n",
      "75%           0.000000\n",
      "max      216836.000000\n",
      "Name: domain_cd, dtype: float64\n",
      "\n",
      "\n",
      "Basic Histogram\n"
     ]
    },
    {
     "data": {
      "image/png": "[encoded data removed]",
      "text/plain": [
       "<Figure size 864x576 with 1 Axes>"
      ]
     },
     "metadata": {},
     "output_type": "display_data"
    }
   ],
   "source": [
    "joint_variable_exploration(dataset=training, column='domain_cd', predicted_column='notified', bin_num=80, quantile=1, log_scale=True, no_notify=True, notify=True)"
   ]
  },
  {
   "cell_type": "markdown",
   "metadata": {},
   "source": [
    "### protocol_cd\n",
    "- a number of different protocols denoted in an auxiliary table with localized alerts, that corresponds to the alert"
   ]
  },
  {
   "cell_type": "code",
   "execution_count": 38,
   "metadata": {},
   "outputs": [
    {
     "name": "stdout",
     "output_type": "stream",
     "text": [
      "Describe\n",
      "count    20000.000000\n",
      "mean         0.644050\n",
      "std          1.147134\n",
      "min          0.000000\n",
      "25%          0.000000\n",
      "50%          1.000000\n",
      "75%          1.000000\n",
      "max        131.000000\n",
      "Name: protocol_cd, dtype: float64\n",
      "\n",
      "\n",
      "Value counts\n",
      "0      9245\n",
      "1      8945\n",
      "2      1677\n",
      "3       105\n",
      "4        18\n",
      "5         5\n",
      "6         2\n",
      "15        1\n",
      "12        1\n",
      "131       1\n",
      "Name: protocol_cd, dtype: int64\n",
      "\n",
      "\n"
     ]
    }
   ],
   "source": [
    "categorical_variable_exploration(dataset=training, column='protocol_cd', predicted_column='notified', normalize=True, stacked=True)"
   ]
  },
  {
   "cell_type": "markdown",
   "metadata": {},
   "source": [
    "### username_cd\n",
    "- a number of different usernames denoted in an auxiliary table with localized alerts, that corresponds to the alert"
   ]
  },
  {
   "cell_type": "code",
   "execution_count": 39,
   "metadata": {},
   "outputs": [
    {
     "name": "stdout",
     "output_type": "stream",
     "text": [
      "Describe\n",
      "count    20000.000000\n",
      "mean         0.391400\n",
      "std          7.113799\n",
      "min          0.000000\n",
      "25%          0.000000\n",
      "50%          0.000000\n",
      "75%          0.000000\n",
      "max        608.000000\n",
      "Name: username_cd, dtype: float64\n",
      "\n",
      "\n",
      "Basic Histogram\n"
     ]
    },
    {
     "data": {
      "image/png": "[encoded data removed]",
      "text/plain": [
       "<Figure size 864x576 with 1 Axes>"
      ]
     },
     "metadata": {},
     "output_type": "display_data"
    }
   ],
   "source": [
    "joint_variable_exploration(dataset=training, column='username_cd', predicted_column='notified', bin_num=80, quantile=1, log_scale=True, no_notify=True, notify=True)"
   ]
  },
  {
   "cell_type": "markdown",
   "metadata": {},
   "source": [
    "### srcipcategory_cd\n",
    "- a number of different source IP categories denoted in an auxiliary table with localized alerts, that corresponds to the alert"
   ]
  },
  {
   "cell_type": "code",
   "execution_count": 40,
   "metadata": {},
   "outputs": [
    {
     "name": "stdout",
     "output_type": "stream",
     "text": [
      "Describe\n",
      "count    20000.00000\n",
      "mean         1.06210\n",
      "std          0.38633\n",
      "min          0.00000\n",
      "25%          1.00000\n",
      "50%          1.00000\n",
      "75%          1.00000\n",
      "max          4.00000\n",
      "Name: srcipcategory_cd, dtype: float64\n",
      "\n",
      "\n",
      "Value counts\n",
      "1    17872\n",
      "2     1246\n",
      "0      594\n",
      "3      274\n",
      "4       14\n",
      "Name: srcipcategory_cd, dtype: int64\n",
      "\n",
      "\n"
     ]
    }
   ],
   "source": [
    "categorical_variable_exploration(dataset=training, column='srcipcategory_cd', predicted_column='notified', normalize=True, stacked=True)"
   ]
  },
  {
   "cell_type": "markdown",
   "metadata": {},
   "source": [
    "### dstipcategory_cd\n",
    "- a number of different destination IP categories denoted in an auxiliary table with localized alerts, that corresponds to the alert"
   ]
  },
  {
   "cell_type": "code",
   "execution_count": 41,
   "metadata": {},
   "outputs": [
    {
     "name": "stdout",
     "output_type": "stream",
     "text": [
      "Describe\n",
      "count    20000.000000\n",
      "mean         0.999650\n",
      "std          0.245668\n",
      "min          0.000000\n",
      "25%          1.000000\n",
      "50%          1.000000\n",
      "75%          1.000000\n",
      "max          3.000000\n",
      "Name: dstipcategory_cd, dtype: float64\n",
      "\n",
      "\n",
      "Value counts\n",
      "1    18832\n",
      "0      594\n",
      "2      561\n",
      "3       13\n",
      "Name: dstipcategory_cd, dtype: int64\n",
      "\n",
      "\n"
     ]
    }
   ],
   "source": [
    "categorical_variable_exploration(dataset=training, column='dstipcategory_cd', predicted_column='notified', normalize=True, stacked=True)"
   ]
  },
  {
   "cell_type": "markdown",
   "metadata": {},
   "source": [
    "### isiptrusted\n",
    "- a binary field indicating whether the IP address corresponding to the alert is controlled by the customer"
   ]
  },
  {
   "cell_type": "code",
   "execution_count": 42,
   "metadata": {},
   "outputs": [
    {
     "name": "stdout",
     "output_type": "stream",
     "text": [
      "Describe\n",
      "count    20000.00000\n",
      "mean         0.52495\n",
      "std          0.49939\n",
      "min          0.00000\n",
      "25%          0.00000\n",
      "50%          1.00000\n",
      "75%          1.00000\n",
      "max          1.00000\n",
      "Name: isiptrusted, dtype: float64\n",
      "\n",
      "\n",
      "Value counts\n",
      "1    10499\n",
      "0     9501\n",
      "Name: isiptrusted, dtype: int64\n",
      "\n",
      "\n"
     ]
    }
   ],
   "source": [
    "categorical_variable_exploration(dataset=training, column='isiptrusted', predicted_column='notified', normalize=True, stacked=True)"
   ]
  },
  {
   "cell_type": "markdown",
   "metadata": {},
   "source": [
    "### untrustscore\n",
    "- a score based on what is known about the external portion of the communication (network traffic) associated with the alert"
   ]
  },
  {
   "cell_type": "code",
   "execution_count": 43,
   "metadata": {},
   "outputs": [
    {
     "name": "stdout",
     "output_type": "stream",
     "text": [
      "Describe\n",
      "count    20000.000000\n",
      "mean         2.831250\n",
      "std          1.600657\n",
      "min          1.000000\n",
      "25%          1.000000\n",
      "50%          3.000000\n",
      "75%          5.000000\n",
      "max          9.000000\n",
      "Name: untrustscore, dtype: float64\n",
      "\n",
      "\n",
      "Value counts\n",
      "1    6429\n",
      "5    5273\n",
      "3    3391\n",
      "2    2992\n",
      "4    1912\n",
      "9       2\n",
      "8       1\n",
      "Name: untrustscore, dtype: int64\n",
      "\n",
      "\n"
     ]
    }
   ],
   "source": [
    "categorical_variable_exploration(dataset=training, column='untrustscore', predicted_column='notified', normalize=True, stacked=True)"
   ]
  },
  {
   "cell_type": "markdown",
   "metadata": {},
   "source": [
    "### flowscore\n",
    "- a behavioral score based on behavioral indicators adjusted for the alert"
   ]
  },
  {
   "cell_type": "code",
   "execution_count": 44,
   "metadata": {},
   "outputs": [
    {
     "name": "stdout",
     "output_type": "stream",
     "text": [
      "Describe\n",
      "count    20000.000000\n",
      "mean         3.240550\n",
      "std          0.565952\n",
      "min          3.000000\n",
      "25%          3.000000\n",
      "50%          3.000000\n",
      "75%          3.000000\n",
      "max          5.000000\n",
      "Name: flowscore, dtype: float64\n",
      "\n",
      "\n",
      "Value counts\n",
      "3    16565\n",
      "4     2059\n",
      "5     1376\n",
      "Name: flowscore, dtype: int64\n",
      "\n",
      "\n"
     ]
    }
   ],
   "source": [
    "categorical_variable_exploration(dataset=training, column='flowscore', predicted_column='notified', normalize=True, stacked=True)"
   ]
  },
  {
   "cell_type": "markdown",
   "metadata": {},
   "source": [
    "### trustscore\n",
    "- a score based on what is known about the internal portion of the communication (network traffic) associated with the alert"
   ]
  },
  {
   "cell_type": "code",
   "execution_count": 45,
   "metadata": {},
   "outputs": [
    {
     "name": "stdout",
     "output_type": "stream",
     "text": [
      "Describe\n",
      "count    20000.000000\n",
      "mean         3.112000\n",
      "std          0.497462\n",
      "min          1.000000\n",
      "25%          3.000000\n",
      "50%          3.000000\n",
      "75%          3.000000\n",
      "max          5.000000\n",
      "Name: trustscore, dtype: float64\n",
      "\n",
      "\n",
      "Value counts\n",
      "3    18538\n",
      "5     1134\n",
      "4      206\n",
      "1      112\n",
      "2       10\n",
      "Name: trustscore, dtype: int64\n",
      "\n",
      "\n"
     ]
    }
   ],
   "source": [
    "categorical_variable_exploration(dataset=training, column='trustscore', predicted_column='notified', normalize=True, stacked=True)"
   ]
  },
  {
   "cell_type": "markdown",
   "metadata": {},
   "source": [
    "### enforcementscore\n",
    "- an adjustment score based on whether or not the activity associated with the alert was mitigated by a security control"
   ]
  },
  {
   "cell_type": "code",
   "execution_count": 46,
   "metadata": {},
   "outputs": [
    {
     "name": "stdout",
     "output_type": "stream",
     "text": [
      "Describe\n",
      "count    20000.000000\n",
      "mean        -0.418800\n",
      "std          0.493375\n",
      "min         -1.000000\n",
      "25%         -1.000000\n",
      "50%          0.000000\n",
      "75%          0.000000\n",
      "max          0.000000\n",
      "Name: enforcementscore, dtype: float64\n",
      "\n",
      "\n",
      "Value counts\n",
      " 0    11624\n",
      "-1     8376\n",
      "Name: enforcementscore, dtype: int64\n",
      "\n",
      "\n"
     ]
    }
   ],
   "source": [
    "categorical_variable_exploration(dataset=training, column='enforcementscore', predicted_column='notified', normalize=True, stacked=True)"
   ]
  },
  {
   "cell_type": "markdown",
   "metadata": {},
   "source": [
    "### dstipcategory_dominate\n",
    "- the most frequent ipcategory_name for the destination addresses denoted in an auxiliary table with localized alerts, that corresponds to the alert\n"
   ]
  },
  {
   "cell_type": "code",
   "execution_count": 47,
   "metadata": {},
   "outputs": [
    {
     "name": "stdout",
     "output_type": "stream",
     "text": [
      "Describe\n",
      "count        20000\n",
      "unique           9\n",
      "top       INTERNET\n",
      "freq         17570\n",
      "Name: dstipcategory_dominate, dtype: object\n",
      "\n",
      "\n",
      "Value counts\n",
      "INTERNET      17570\n",
      "PRIV-10        1845\n",
      "PRIV-192        314\n",
      "PRIV-172        222\n",
      "PRIV-CGN         26\n",
      "BROADCAST        10\n",
      "MULTICAST         6\n",
      "LOOPBACK          5\n",
      "LINK-LOCAL        2\n",
      "Name: dstipcategory_dominate, dtype: int64\n",
      "\n",
      "\n"
     ]
    }
   ],
   "source": [
    "categorical_variable_exploration(dataset=training, column='dstipcategory_dominate', predicted_column='notified', normalize=True, stacked=True)"
   ]
  },
  {
   "cell_type": "markdown",
   "metadata": {},
   "source": [
    "### srcipcategory_dominate\n",
    "- the most frequent ipcategory_name for the source addresses denoted in an auxiliary table with localized alerts, that corresponds to the alert\n"
   ]
  },
  {
   "cell_type": "code",
   "execution_count": 48,
   "metadata": {},
   "outputs": [
    {
     "name": "stdout",
     "output_type": "stream",
     "text": [
      "Describe\n",
      "count       20000\n",
      "unique          7\n",
      "top       PRIV-10\n",
      "freq         9763\n",
      "Name: srcipcategory_dominate, dtype: object\n",
      "\n",
      "\n",
      "Value counts\n",
      "PRIV-10       9763\n",
      "INTERNET      5292\n",
      "PRIV-192      2914\n",
      "PRIV-172      2020\n",
      "LOOPBACK         5\n",
      "LINK-LOCAL       5\n",
      "BENCH            1\n",
      "Name: srcipcategory_dominate, dtype: int64\n",
      "\n",
      "\n"
     ]
    }
   ],
   "source": [
    "categorical_variable_exploration(dataset=training, column='srcipcategory_dominate', predicted_column='notified', normalize=True, stacked=True)"
   ]
  },
  {
   "cell_type": "markdown",
   "metadata": {},
   "source": [
    "### dstportcategory_dominate\n",
    "- the most frequent ipcategory_name for the destination port denoted in an auxiliary table with localized alerts, that corresponds to the alert\n"
   ]
  },
  {
   "cell_type": "code",
   "execution_count": 49,
   "metadata": {},
   "outputs": [
    {
     "name": "stdout",
     "output_type": "stream",
     "text": [
      "Describe\n",
      "count    20000.000000\n",
      "mean         2.039700\n",
      "std          0.650496\n",
      "min          0.000000\n",
      "25%          2.000000\n",
      "50%          2.000000\n",
      "75%          2.000000\n",
      "max          4.000000\n",
      "Name: dstportcategory_dominate, dtype: float64\n",
      "\n",
      "\n",
      "Value counts\n",
      "2    15883\n",
      "3     1591\n",
      "1     1067\n",
      "4      797\n",
      "0      662\n",
      "Name: dstportcategory_dominate, dtype: int64\n",
      "\n",
      "\n"
     ]
    }
   ],
   "source": [
    "categorical_variable_exploration(dataset=training, column='dstportcategory_dominate', predicted_column='notified', normalize=True, stacked=True)"
   ]
  },
  {
   "cell_type": "markdown",
   "metadata": {},
   "source": [
    "### srcportcategory_dominate\n",
    "- the most frequent ipcategory_name for the source port denoted in an auxiliary table with localized alerts, that corresponds to the alert\n"
   ]
  },
  {
   "cell_type": "code",
   "execution_count": 50,
   "metadata": {},
   "outputs": [
    {
     "name": "stdout",
     "output_type": "stream",
     "text": [
      "Describe\n",
      "count    20000.000000\n",
      "mean         3.224150\n",
      "std          1.084466\n",
      "min          0.000000\n",
      "25%          3.000000\n",
      "50%          4.000000\n",
      "75%          4.000000\n",
      "max          4.000000\n",
      "Name: srcportcategory_dominate, dtype: float64\n",
      "\n",
      "\n",
      "Value counts\n",
      "4    11050\n",
      "3     5173\n",
      "2     1651\n",
      "1     1462\n",
      "0      664\n",
      "Name: srcportcategory_dominate, dtype: int64\n",
      "\n",
      "\n"
     ]
    }
   ],
   "source": [
    "categorical_variable_exploration(dataset=training, column='srcportcategory_dominate', predicted_column='notified', normalize=True, stacked=True)"
   ]
  },
  {
   "cell_type": "markdown",
   "metadata": {},
   "source": [
    "### thrcnt_month\n",
    "- a number of records from an auxiliary table with threat watch alerts, denoted for the same IP address as the alert, during the previous month\n"
   ]
  },
  {
   "cell_type": "code",
   "execution_count": 51,
   "metadata": {},
   "outputs": [
    {
     "name": "stdout",
     "output_type": "stream",
     "text": [
      "Describe\n",
      "count    20000.000000\n",
      "mean      2669.555250\n",
      "std       5364.833747\n",
      "min          1.000000\n",
      "25%         35.000000\n",
      "50%        116.000000\n",
      "75%       1221.250000\n",
      "max      18153.000000\n",
      "Name: thrcnt_month, dtype: float64\n",
      "\n",
      "\n",
      "Basic Histogram\n"
     ]
    },
    {
     "data": {
      "image/png": "[encoded data removed]",
      "text/plain": [
       "<Figure size 864x576 with 1 Axes>"
      ]
     },
     "metadata": {},
     "output_type": "display_data"
    }
   ],
   "source": [
    "joint_variable_exploration(dataset=training, column='thrcnt_month', predicted_column='notified', bin_num=80, quantile=1, log_scale=True, no_notify=True, notify=True)"
   ]
  },
  {
   "cell_type": "markdown",
   "metadata": {},
   "source": [
    "### thrcnt_week\n",
    "- a number of records from an auxiliary table with threat watch alerts, denoted for the same IP address as the alert, during the previous week"
   ]
  },
  {
   "cell_type": "code",
   "execution_count": 52,
   "metadata": {},
   "outputs": [
    {
     "name": "stdout",
     "output_type": "stream",
     "text": [
      "Describe\n",
      "count    20000.000000\n",
      "mean       625.604250\n",
      "std       1239.178175\n",
      "min          1.000000\n",
      "25%         10.000000\n",
      "50%         33.000000\n",
      "75%        295.250000\n",
      "max       4146.000000\n",
      "Name: thrcnt_week, dtype: float64\n",
      "\n",
      "\n",
      "Basic Histogram\n"
     ]
    },
    {
     "data": {
      "image/png": "[encoded data removed]",
      "text/plain": [
       "<Figure size 864x576 with 1 Axes>"
      ]
     },
     "metadata": {},
     "output_type": "display_data"
    }
   ],
   "source": [
    "joint_variable_exploration(dataset=training, column='thrcnt_week', predicted_column='notified', bin_num=80, quantile=1, log_scale=True, no_notify=True, notify=True)"
   ]
  },
  {
   "cell_type": "markdown",
   "metadata": {},
   "source": [
    "### thrcnt_day\n",
    "- a number of records from an auxiliary table with threat watch alerts, denoted for the same IP address as the alert, during the previous day"
   ]
  },
  {
   "cell_type": "code",
   "execution_count": 53,
   "metadata": {},
   "outputs": [
    {
     "name": "stdout",
     "output_type": "stream",
     "text": [
      "Describe\n",
      "count    20000.000000\n",
      "mean       100.154650\n",
      "std        204.281704\n",
      "min          1.000000\n",
      "25%          2.000000\n",
      "50%          6.000000\n",
      "75%         48.000000\n",
      "max        866.000000\n",
      "Name: thrcnt_day, dtype: float64\n",
      "\n",
      "\n",
      "Basic Histogram\n"
     ]
    },
    {
     "data": {
      "image/png": "[encoded data removed]",
      "text/plain": [
       "<Figure size 864x576 with 1 Axes>"
      ]
     },
     "metadata": {},
     "output_type": "display_data"
    }
   ],
   "source": [
    "joint_variable_exploration(dataset=training, column='thrcnt_day', predicted_column='notified', bin_num=80, quantile=1, log_scale=True, no_notify=True, notify=True)"
   ]
  },
  {
   "cell_type": "markdown",
   "metadata": {},
   "source": [
    "### p6, p5m, p5w, p5d, p8m, p8w, p8d\n",
    "\n",
    "- a result of an analytical query pX for the corresponding alert, on an auxiliary table with threat watch alerts\n"
   ]
  },
  {
   "cell_type": "code",
   "execution_count": 54,
   "metadata": {},
   "outputs": [
    {
     "name": "stdout",
     "output_type": "stream",
     "text": [
      "Column:  p6\n",
      "\n",
      "\n",
      "Describe\n",
      "count    20000.000000\n",
      "mean         1.171050\n",
      "std          0.580438\n",
      "min          0.000000\n",
      "25%          1.000000\n",
      "50%          1.000000\n",
      "75%          1.000000\n",
      "max         12.000000\n",
      "Name: p6, dtype: float64\n",
      "\n",
      "\n",
      "Value counts\n",
      "1     16371\n",
      "2      2282\n",
      "0       594\n",
      "3       593\n",
      "4       123\n",
      "5        25\n",
      "6         7\n",
      "11        2\n",
      "7         2\n",
      "12        1\n",
      "Name: p6, dtype: int64\n",
      "\n",
      "\n",
      "Column:  p5m\n",
      "\n",
      "\n",
      "Describe\n",
      "count    20000.000000\n",
      "mean         1.863550\n",
      "std          0.903367\n",
      "min          1.000000\n",
      "25%          1.000000\n",
      "50%          2.000000\n",
      "75%          3.000000\n",
      "max          4.000000\n",
      "Name: p5m, dtype: float64\n",
      "\n",
      "\n",
      "Value counts\n",
      "1    8919\n",
      "2    5683\n",
      "3    4606\n",
      "4     792\n",
      "Name: p5m, dtype: int64\n",
      "\n",
      "\n",
      "Column:  p5w\n",
      "\n",
      "\n",
      "Describe\n",
      "count    20000.000000\n",
      "mean         1.452700\n",
      "std          0.703269\n",
      "min          1.000000\n",
      "25%          1.000000\n",
      "50%          1.000000\n",
      "75%          2.000000\n",
      "max          4.000000\n",
      "Name: p5w, dtype: float64\n",
      "\n",
      "\n",
      "Value counts\n",
      "1    13238\n",
      "2     4646\n",
      "3     1940\n",
      "4      176\n",
      "Name: p5w, dtype: int64\n",
      "\n",
      "\n",
      "Column:  p5d\n",
      "\n",
      "\n",
      "Describe\n",
      "count    20000.000000\n",
      "mean         1.229150\n",
      "std          0.502447\n",
      "min          1.000000\n",
      "25%          1.000000\n",
      "50%          1.000000\n",
      "75%          1.000000\n",
      "max          4.000000\n",
      "Name: p5d, dtype: float64\n",
      "\n",
      "\n",
      "Value counts\n",
      "1    16153\n",
      "2     3133\n",
      "3      692\n",
      "4       22\n",
      "Name: p5d, dtype: int64\n",
      "\n",
      "\n",
      "Column:  p8m\n",
      "\n",
      "\n",
      "Describe\n",
      "count    20000.000000\n",
      "mean         1.406900\n",
      "std          0.697249\n",
      "min          1.000000\n",
      "25%          1.000000\n",
      "50%          1.000000\n",
      "75%          2.000000\n",
      "max          5.000000\n",
      "Name: p8m, dtype: float64\n",
      "\n",
      "\n",
      "Value counts\n",
      "1    14066\n",
      "2     3948\n",
      "3     1794\n",
      "4      166\n",
      "5       26\n",
      "Name: p8m, dtype: int64\n",
      "\n",
      "\n",
      "Column:  p8w\n",
      "\n",
      "\n",
      "Describe\n",
      "count    20000.000000\n",
      "mean         1.234600\n",
      "std          0.522759\n",
      "min          1.000000\n",
      "25%          1.000000\n",
      "50%          1.000000\n",
      "75%          1.000000\n",
      "max          5.000000\n",
      "Name: p8w, dtype: float64\n",
      "\n",
      "\n",
      "Value counts\n",
      "1    16168\n",
      "2     3043\n",
      "3      724\n",
      "4       59\n",
      "5        6\n",
      "Name: p8w, dtype: int64\n",
      "\n",
      "\n",
      "Column:  p8d\n",
      "\n",
      "\n",
      "Describe\n",
      "count    20000.000000\n",
      "mean         1.106450\n",
      "std          0.339152\n",
      "min          1.000000\n",
      "25%          1.000000\n",
      "50%          1.000000\n",
      "75%          1.000000\n",
      "max          4.000000\n",
      "Name: p8d, dtype: float64\n",
      "\n",
      "\n",
      "Value counts\n",
      "1    18062\n",
      "2     1755\n",
      "3      175\n",
      "4        8\n",
      "Name: p8d, dtype: int64\n",
      "\n",
      "\n"
     ]
    }
   ],
   "source": [
    "column_list = [\"p6\", \"p5m\", \"p5w\", \"p5d\", \"p8m\", \"p8w\", \"p8d\"]\n",
    "\n",
    "for column in column_list:\n",
    "    print(\"Column: \", column)\n",
    "    print(\"\\n\")\n",
    "    categorical_variable_exploration(dataset=training, column=column, predicted_column='notified', normalize=True, stacked=True)"
   ]
  },
  {
   "cell_type": "markdown",
   "metadata": {},
   "source": [
    "### p9\n",
    "- a result of an analytical query p9 for the corresponding alert, on an auxiliary table with threat watch alerts\n"
   ]
  },
  {
   "cell_type": "code",
   "execution_count": 55,
   "metadata": {},
   "outputs": [
    {
     "name": "stdout",
     "output_type": "stream",
     "text": [
      "Describe\n",
      "count    20000.000000\n",
      "mean         5.647000\n",
      "std        200.305986\n",
      "min          0.000000\n",
      "25%          0.000000\n",
      "50%          0.000000\n",
      "75%          0.000000\n",
      "max      22000.000000\n",
      "Name: p9, dtype: float64\n",
      "\n",
      "\n",
      "Basic Histogram\n"
     ]
    },
    {
     "data": {
      "image/png": "[encoded data removed]",
      "text/plain": [
       "<Figure size 864x576 with 1 Axes>"
      ]
     },
     "metadata": {},
     "output_type": "display_data"
    }
   ],
   "source": [
    "joint_variable_exploration(dataset=training, column='p9', predicted_column='notified', bin_num=80, quantile=1, log_scale=True, no_notify=True, notify=True)"
   ]
  },
  {
   "cell_type": "code",
   "execution_count": null,
   "metadata": {},
   "outputs": [],
   "source": []
  },
  {
   "cell_type": "code",
   "execution_count": null,
   "metadata": {},
   "outputs": [],
   "source": []
  },
  {
   "cell_type": "code",
   "execution_count": null,
   "metadata": {},
   "outputs": [],
   "source": []
  }
 ],
 "metadata": {
  "kernelspec": {
   "display_name": "Python 3",
   "language": "python",
   "name": "python3"
  },
  "language_info": {
   "codemirror_mode": {
    "name": "ipython",
    "version": 3
   },
   "file_extension": ".py",
   "mimetype": "text/x-python",
   "name": "python",
   "nbconvert_exporter": "python",
   "pygments_lexer": "ipython3",
   "version": "3.7.3"
  }
 },
 "nbformat": 4,
 "nbformat_minor": 2
}
